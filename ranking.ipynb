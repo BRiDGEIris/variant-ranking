{
 "cells": [
  {
   "cell_type": "code",
   "execution_count": null,
   "metadata": {
    "collapsed": false
   },
   "outputs": [],
   "source": [
    "from pyspark import SparkContext\n",
    "sc = SparkContext(\"local[4]\", \"Simple App\")"
   ]
  },
  {
   "cell_type": "code",
   "execution_count": 9,
   "metadata": {
    "collapsed": true
   },
   "outputs": [],
   "source": [
    "import json"
   ]
  },
  {
   "cell_type": "code",
   "execution_count": null,
   "metadata": {
    "collapsed": true
   },
   "outputs": [],
   "source": [
    "nCoresPerExecutor=4\n",
    "indexControl=11"
   ]
  },
  {
   "cell_type": "code",
   "execution_count": 2,
   "metadata": {
    "collapsed": false
   },
   "outputs": [
    {
     "data": {
      "text/plain": [
       "[u'ENSG00000000003 X:99884731:G:C 0 0 0 0 0 0 0 0 0 0 0 0 0 0 0 0 0 0 1 2 0 0 0 0 0 0 0 0 0 0 0 0 0',\n",
       " u'ENSG00000000005 X:99840291:A:G 0 0 1 0 0 0 0 0 0 0 0 0 0 0 0 0 0 0 0 0 0 0 0 0 0 0 0 0 0 0 0 0 0']"
      ]
     },
     "execution_count": 2,
     "metadata": {},
     "output_type": "execute_result"
    }
   ],
   "source": [
    "filename=\"genoMatTriosDamaging.txt\"\n",
    "filename=\"genoMat.txt\"\n",
    "varMat = sc.textFile(filename)\n",
    "varMat.take(2)"
   ]
  },
  {
   "cell_type": "code",
   "execution_count": 3,
   "metadata": {
    "collapsed": false
   },
   "outputs": [
    {
     "data": {
      "text/plain": [
       "40273"
      ]
     },
     "execution_count": 3,
     "metadata": {},
     "output_type": "execute_result"
    }
   ],
   "source": [
    "varMat.count()"
   ]
  },
  {
   "cell_type": "code",
   "execution_count": null,
   "metadata": {
    "collapsed": true
   },
   "outputs": [],
   "source": [
    "varMat=varMat.repartition(nCoresPerExecutor)"
   ]
  },
  {
   "cell_type": "markdown",
   "metadata": {},
   "source": [
    "#Common functions"
   ]
  },
  {
   "cell_type": "code",
   "execution_count": null,
   "metadata": {
    "collapsed": true
   },
   "outputs": [],
   "source": [
    "def splitValues(variantData):\n",
    "    variantData=variantData.split(\" \")\n",
    "    variantGene=variantData.pop(0)\n",
    "    variantLocus=variantData.pop(0)\n",
    "    \n",
    "    return (variantGene,(variantLocus,variantData))"
   ]
  },
  {
   "cell_type": "markdown",
   "metadata": {},
   "source": [
    "#Variant"
   ]
  },
  {
   "cell_type": "markdown",
   "metadata": {},
   "source": [
    "##De Novo"
   ]
  },
  {
   "cell_type": "code",
   "execution_count": 5,
   "metadata": {
    "collapsed": true
   },
   "outputs": [],
   "source": [
    "def scoreDeNovo(variantData):\n",
    "    variantData=variantData.split(\" \")\n",
    "    variantGene=variantData.pop(0)\n",
    "    variantLocus=variantData.pop(0)\n",
    "    \n",
    "    score=0\n",
    "    listTrios=[]\n",
    "    checkValid=0\n",
    "    for i in range(0,11):\n",
    "        checkValid=checkValid+int(variantData[i*3+1])+int(variantData[i*3+2])\n",
    "    \n",
    "    if checkValid==0:                              \n",
    "        for i in range(0,11):\n",
    "            scoreTrio=int(variantData[(i*3)]==\"1\" and variantData[i*3+1]==\"0\" and variantData[i*3+2]==\"0\")\n",
    "            if scoreTrio>0:\n",
    "                listTrios.append(i)\n",
    "                score=score+scoreTrio\n",
    "            \n",
    "    return ((variantGene,variantLocus),score,listTrios,variantData)"
   ]
  },
  {
   "cell_type": "code",
   "execution_count": 16,
   "metadata": {
    "collapsed": false
   },
   "outputs": [],
   "source": [
    "scores=sc.textFile(filename,8).map(scoreDeNovo).filter(lambda (k,v1,v2,v3): v1>0).takeOrdered(100000, key=lambda (k,v1,v2,v3): -v1)"
   ]
  },
  {
   "cell_type": "code",
   "execution_count": 17,
   "metadata": {
    "collapsed": true
   },
   "outputs": [],
   "source": [
    "scores=[\"TriosDeNovo\",\"singleVariant\",scores]"
   ]
  },
  {
   "cell_type": "code",
   "execution_count": 18,
   "metadata": {
    "collapsed": false
   },
   "outputs": [],
   "source": [
    "with open('ULB_Control_vs_NeuroDev.txt', 'w') as outfile:\n",
    "    json.dump(scores, outfile)\n",
    "#with open('singVarDeNovo.txt', 'w') as outfile:\n",
    "#    json.dump(scores, outfile)"
   ]
  },
  {
   "cell_type": "markdown",
   "metadata": {},
   "source": [
    "#Gene"
   ]
  },
  {
   "cell_type": "markdown",
   "metadata": {},
   "source": [
    "##Univariate"
   ]
  },
  {
   "cell_type": "code",
   "execution_count": null,
   "metadata": {
    "collapsed": false
   },
   "outputs": [],
   "source": [
    "def scoreGeneUnivariate(k,variantList):\n",
    "    variantList=list(variantList)\n",
    "    #result=[k,(0,0,0)]\n",
    "    nbVariantsCase=0\n",
    "    nbVariantsControl=0\n",
    "    if len(variantList)>0:\n",
    "        for i in range(0,len(variantList)):\n",
    "            (locus,geno)=variantList[i]\n",
    "            nbVariantsCase+=sum([int(x) for x in geno[0:indexControl]])\n",
    "            nbVariantsControl+=sum([int(x) for x in geno[indexControl:len(geno)]])\n",
    "    \n",
    "    score=nbVariantsCase-nbVariantsControl\n",
    "    if score>0:\n",
    "        return [k,(score,nbVariantsCase,nbVariantsControl)]\n",
    "    \n",
    "#    return result"
   ]
  },
  {
   "cell_type": "code",
   "execution_count": null,
   "metadata": {
    "collapsed": false
   },
   "outputs": [],
   "source": [
    "scores=sc.textFile(filename,nCoresPerExecutor).map(splitValues).groupByKey().map(lambda (k,v):scoreGeneUnivariate(k,v)).filter(lambda (k,(v1,v2,v3)): v1>0).takeOrdered(100, key=lambda (k,(v1,v2,v3)): -v1)"
   ]
  },
  {
   "cell_type": "code",
   "execution_count": null,
   "metadata": {
    "collapsed": true
   },
   "outputs": [],
   "source": [
    "scores=[\"neuroDev_Control\",\"geneUnivariate\",scores]"
   ]
  },
  {
   "cell_type": "code",
   "execution_count": null,
   "metadata": {
    "collapsed": true
   },
   "outputs": [],
   "source": [
    "with open('neuroDev_Control.txt', 'w') as outfile:\n",
    "    json.dump(scores, outfile)"
   ]
  },
  {
   "cell_type": "markdown",
   "metadata": {},
   "source": [
    "##Bivariate"
   ]
  },
  {
   "cell_type": "code",
   "execution_count": null,
   "metadata": {
    "collapsed": true
   },
   "outputs": [],
   "source": []
  },
  {
   "cell_type": "code",
   "execution_count": null,
   "metadata": {
    "collapsed": true
   },
   "outputs": [],
   "source": []
  },
  {
   "cell_type": "code",
   "execution_count": null,
   "metadata": {
    "collapsed": true
   },
   "outputs": [],
   "source": []
  },
  {
   "cell_type": "markdown",
   "metadata": {},
   "source": [
    "#Common results"
   ]
  },
  {
   "cell_type": "code",
   "execution_count": null,
   "metadata": {
    "collapsed": false
   },
   "outputs": [],
   "source": [
    "scores"
   ]
  },
  {
   "cell_type": "code",
   "execution_count": null,
   "metadata": {
    "collapsed": true
   },
   "outputs": [],
   "source": [
    "scores=[\"neuroDev_Control\",\"geneUnivariate\",scores]"
   ]
  },
  {
   "cell_type": "code",
   "execution_count": null,
   "metadata": {
    "collapsed": false
   },
   "outputs": [],
   "source": [
    "with open('neuroDev_Control.txt', 'w') as outfile:\n",
    "    json.dump(scores, outfile)"
   ]
  },
  {
   "cell_type": "code",
   "execution_count": null,
   "metadata": {
    "collapsed": true
   },
   "outputs": [],
   "source": [
    "sc.stop()"
   ]
  },
  {
   "cell_type": "code",
   "execution_count": null,
   "metadata": {
    "collapsed": true
   },
   "outputs": [],
   "source": []
  }
 ],
 "metadata": {
  "kernelspec": {
   "display_name": "Python 2",
   "language": "python",
   "name": "python2"
  },
  "language_info": {
   "codemirror_mode": {
    "name": "ipython",
    "version": 2
   },
   "file_extension": ".py",
   "mimetype": "text/x-python",
   "name": "python",
   "nbconvert_exporter": "python",
   "pygments_lexer": "ipython2",
   "version": "2.7.10"
  }
 },
 "nbformat": 4,
 "nbformat_minor": 0
}
