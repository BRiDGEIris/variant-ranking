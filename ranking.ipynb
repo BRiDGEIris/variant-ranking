{
 "cells": [
  {
   "cell_type": "code",
   "execution_count": 1,
   "metadata": {
    "collapsed": false
   },
   "outputs": [],
   "source": [
    "sc.stop()\n",
    "from pyspark import SparkContext, SparkConf\n",
    "nPartitions=4\n",
    "conf = (SparkConf()\n",
    "         .setMaster(\"local[\"+str(nPartitions)+\"]\")\n",
    "         .setAppName(\"Ranking\")\n",
    "#         .set(\"spark.executor.memory\", \"5g\")\n",
    "#         .set(\"spark.driver.memory\", \"5g\")\n",
    "#         .set(\"spark.python.worker.memory\", \"5g\")\n",
    "       )\n",
    "sc = SparkContext(conf=conf)\n"
   ]
  },
  {
   "cell_type": "code",
   "execution_count": 2,
   "metadata": {
    "collapsed": true
   },
   "outputs": [],
   "source": [
    "import json\n",
    "import time"
   ]
  },
  {
   "cell_type": "code",
   "execution_count": 3,
   "metadata": {
    "collapsed": true
   },
   "outputs": [],
   "source": [
    "indexControl=11"
   ]
  },
  {
   "cell_type": "code",
   "execution_count": 21,
   "metadata": {
    "collapsed": false
   },
   "outputs": [
    {
     "data": {
      "text/plain": [
       "[u'ENSG00000000003 X:99884731:G:C 0 0 1 0 0 0 0 0 0 0 0 0 2 0 0 0 0 0 0 0 0 0 0 0 0 0 0 0 0 0 0 0 0',\n",
       " u'ENSG00000000005 X:99840291:A:G 0 0 0 0 0 0 0 0 0 0 0 0 0 0 0 0 0 0 0 0 0 0 0 0 0 0 0 0 0 0 1 0 0']"
      ]
     },
     "execution_count": 21,
     "metadata": {},
     "output_type": "execute_result"
    }
   ],
   "source": [
    "filename=\"genoMatTriosNotOrdered.txt\"\n",
    "#filename=\"geno10m30.txt\"\n",
    "varMat = sc.textFile(filename)\n",
    "varMat.take(2)"
   ]
  },
  {
   "cell_type": "code",
   "execution_count": 16,
   "metadata": {
    "collapsed": false
   },
   "outputs": [
    {
     "data": {
      "text/plain": [
       "40273"
      ]
     },
     "execution_count": 16,
     "metadata": {},
     "output_type": "execute_result"
    }
   ],
   "source": [
    "varMat.count()"
   ]
  },
  {
   "cell_type": "markdown",
   "metadata": {},
   "source": [
    "#Common functions"
   ]
  },
  {
   "cell_type": "code",
   "execution_count": 6,
   "metadata": {
    "collapsed": true
   },
   "outputs": [],
   "source": [
    "def splitValues(variantData):\n",
    "    variantData=variantData.split(\" \")\n",
    "    variantGene=variantData.pop(0)\n",
    "    variantLocus=variantData.pop(0)\n",
    "    \n",
    "    return (variantGene,(variantLocus,variantData))\n",
    "\n",
    "def makePairParts(k,v,nbPart):\n",
    "    result=[]\n",
    "    for i in range(0,nbPart):\n",
    "        result.append(((k,i),v))\n",
    "        \n",
    "    return [(str(sorted([k,i])),(v)) for i in range(0,nbPart)]\n",
    "\n",
    "def f(splitIndex ,v): \n",
    "    return [(splitIndex,list(v))]"
   ]
  },
  {
   "cell_type": "markdown",
   "metadata": {},
   "source": [
    "#Variant"
   ]
  },
  {
   "cell_type": "markdown",
   "metadata": {},
   "source": [
    "##De Novo"
   ]
  },
  {
   "cell_type": "code",
   "execution_count": null,
   "metadata": {
    "collapsed": true
   },
   "outputs": [],
   "source": [
    "def scoreDeNovo(variantData):\n",
    "    variantData=variantData.split(\" \")\n",
    "    variantGene=variantData.pop(0)\n",
    "    variantLocus=variantData.pop(0)\n",
    "    \n",
    "    score=0\n",
    "    listTrios=[]\n",
    "    checkValid=0\n",
    "    nTrios=len(variantData)/3\n",
    "    for i in range(0,nTrios):\n",
    "        checkValid=checkValid+int(variantData[i*3+1])+int(variantData[i*3+2])\n",
    "    \n",
    "    if checkValid==0:                              \n",
    "        for i in range(0,nTrios):\n",
    "            scoreTrio=int(variantData[(i*3)]==\"1\" and variantData[i*3+1]==\"0\" and variantData[i*3+2]==\"0\")\n",
    "            if scoreTrio>0:\n",
    "                listTrios.append(i)\n",
    "                score=score+scoreTrio\n",
    "            \n",
    "    return ((variantGene,variantLocus),score,listTrios,variantData)"
   ]
  },
  {
   "cell_type": "code",
   "execution_count": null,
   "metadata": {
    "collapsed": false
   },
   "outputs": [],
   "source": [
    "#start_time = time.time()\n",
    "#scores=sc.textFile(filename).repartition(nPartitions).map(scoreDeNovo).filter(lambda (k,v1,v2,v3): v1>0).takeOrdered(100000, key=lambda (k,v1,v2,v3): -v1)\n",
    "#runtime=time.time() - start_time\n",
    "#print(runtime)"
   ]
  },
  {
   "cell_type": "code",
   "execution_count": null,
   "metadata": {
    "collapsed": true
   },
   "outputs": [],
   "source": [
    "#scores=[\"TriosDeNovo\",\"singleVariant\",scores]"
   ]
  },
  {
   "cell_type": "code",
   "execution_count": null,
   "metadata": {
    "collapsed": false
   },
   "outputs": [],
   "source": [
    "#with open('ULB_Control_vs_NeuroDev.txt', 'w') as outfile:\n",
    "#    json.dump(scores, outfile)\n"
   ]
  },
  {
   "cell_type": "markdown",
   "metadata": {},
   "source": [
    "##Compound"
   ]
  },
  {
   "cell_type": "code",
   "execution_count": null,
   "metadata": {
    "collapsed": true
   },
   "outputs": [],
   "source": [
    "def scoreCompound(k,variantList):\n",
    "    variantList=list(variantList)\n",
    "    result=[]\n",
    "    if len(variantList)>1:\n",
    "        for i in range(0,len(variantList)-1):\n",
    "            (locus1,geno1)=variantList[i]\n",
    "            for j in range(i+1,len(variantList)):\n",
    "                (locus2,geno2)=variantList[j]\n",
    "                (score,listTrios)=getScorePair(geno1,geno2)\n",
    "                if score>0:\n",
    "                    result.append(((k,locus1,locus2),score,listTrios,[geno1,geno2]))\n",
    "        \n",
    "    return result"
   ]
  },
  {
   "cell_type": "code",
   "execution_count": null,
   "metadata": {
    "collapsed": true
   },
   "outputs": [],
   "source": [
    "def getScorePair(geno1,geno2):\n",
    "    score=0\n",
    "    listTrios=[]\n",
    "    checkValid=0\n",
    "    nTrios=len(geno1)/3\n",
    "    for i in range(0,nTrios):\n",
    "        checkValid=checkValid+int(int(geno1[i*3+1])>0 and int(geno2[i*3+1])>0)+int(int(geno1[i*3+2])>0 and int(geno2[i*3+2])>0)\n",
    "        \n",
    "    if checkValid==0:\n",
    "        for i in range(0,nTrios):\n",
    "            scoreTrio=int(geno1[i*3]==\"1\" and geno2[i*3]==\"1\" and \n",
    "                          ((geno1[i*3+1]==\"1\" and geno2[i*3+1]==\"0\" and geno1[i*3+2]==\"0\" and geno2[i*3+2]==\"1\") or\n",
    "                           (geno1[i*3+1]==\"0\" and geno2[i*3+1]==\"1\" and geno1[i*3+2]==\"1\" and geno2[i*3+2]==\"0\")))\n",
    "            if scoreTrio>0:\n",
    "                listTrios.append(i)\n",
    "                score=score+scoreTrio\n",
    "    return (score,listTrios)"
   ]
  },
  {
   "cell_type": "code",
   "execution_count": null,
   "metadata": {
    "collapsed": false
   },
   "outputs": [],
   "source": [
    "#start_time = time.time()\n",
    "#scores=sc.textFile(filename,nPartitions).map(splitValues).groupByKey().flatMap(lambda (k,v):scoreCompound(k,v)).takeOrdered(100000, key=lambda (k,v1,v2,v3): -v1)\n",
    "#runtime=time.time() - start_time\n",
    "#print(runtime)"
   ]
  },
  {
   "cell_type": "code",
   "execution_count": null,
   "metadata": {
    "collapsed": false
   },
   "outputs": [],
   "source": [
    "#len(scores)"
   ]
  },
  {
   "cell_type": "markdown",
   "metadata": {},
   "source": [
    "##Digenic"
   ]
  },
  {
   "cell_type": "code",
   "execution_count": null,
   "metadata": {
    "collapsed": true
   },
   "outputs": [],
   "source": [
    "def scoreDigenic(k,variantLists):\n",
    "    variantLists=list(variantLists)\n",
    "    result=[]\n",
    "    if len(variantLists)==2:\n",
    "        variantList1=list(variantLists[0])\n",
    "        variantList2=list(variantLists[1])\n",
    "        \n",
    "        for i in range(0,len(variantList1)):\n",
    "            (gene1,(locus1,geno1))=variantList1[i]\n",
    "            for j in range(0,len(variantList2)):\n",
    "                (gene2,(locus2,geno2))=variantList2[j]\n",
    "                (score,listTrios)=getScorePair(geno1,geno2)\n",
    "                if score>0:\n",
    "                    result.append(((gene1,locus1,gene2,locus2),score,listTrios,[geno1,geno2]))\n",
    "        \n",
    "    return result"
   ]
  },
  {
   "cell_type": "code",
   "execution_count": null,
   "metadata": {
    "collapsed": false
   },
   "outputs": [],
   "source": [
    "start_time = time.time()\n",
    "scores=sc.textFile(filename,nPartitions).map(splitValues).mapPartitionsWithIndex(f).flatMap(lambda (k,v):makePairParts(k,v,nPartitions)).groupByKey().flatMap(lambda (k,v):scoreDigenic(k,v)).takeOrdered(100, key=lambda (k,v1,v2,v3): -v1)\n",
    "runtime=time.time() - start_time\n",
    "print(runtime)"
   ]
  },
  {
   "cell_type": "code",
   "execution_count": null,
   "metadata": {
    "collapsed": true
   },
   "outputs": [],
   "source": [
    "len(scores)"
   ]
  },
  {
   "cell_type": "markdown",
   "metadata": {},
   "source": [
    "#Gene"
   ]
  },
  {
   "cell_type": "markdown",
   "metadata": {},
   "source": [
    "##Univariate"
   ]
  },
  {
   "cell_type": "code",
   "execution_count": 10,
   "metadata": {
    "collapsed": false
   },
   "outputs": [],
   "source": [
    "def scoreGeneUnivariate(k,variantList):\n",
    "    variantList=list(variantList)\n",
    "    result=[k,(0,0,0)]\n",
    "    sumCase=0\n",
    "    sumControl=0\n",
    "    score=0\n",
    "    genosum=[]\n",
    "    if len(variantList)>0:\n",
    "        for i in range(0,len(variantList)):\n",
    "            (locus,geno)=variantList[i]\n",
    "            if genosum==[]:\n",
    "                genosum=[int(x) for x in geno]\n",
    "            else:\n",
    "                genosum=[int(x)+int(y) for x,y in zip(genosum,geno)]\n",
    "                \n",
    "        sumCase=sum([int(x>0) for x in genosum[0:indexControl]])\n",
    "        sumControl=sum([int(x>0) for x in genosum[indexControl:len(genosum)]])\n",
    "        score=sumCase\n",
    "        if sumControl>0:\n",
    "            score=0\n",
    "\n",
    "    #if score>0:\n",
    "    result=[k,(score,sumCase,sumControl)]\n",
    "    \n",
    "    return result"
   ]
  },
  {
   "cell_type": "code",
   "execution_count": 22,
   "metadata": {
    "collapsed": false
   },
   "outputs": [],
   "source": [
    "scores=sc.textFile(filename,nPartitions).map(splitValues).groupByKey().map(lambda (k,v):scoreGeneUnivariate(k,v)).filter(lambda (k,(v1,v2,v3)): v1>0).takeOrdered(10000, key=lambda (k,(v1,v2,v3)): -v1)"
   ]
  },
  {
   "cell_type": "code",
   "execution_count": 25,
   "metadata": {
    "collapsed": false
   },
   "outputs": [
    {
     "data": {
      "text/plain": [
       "[[u'ENSG00000167792', (2, 2, 0)],\n",
       " [u'ENSG00000238364', (2, 2, 0)],\n",
       " [u'ENSG00000213347', (1, 1, 0)],\n",
       " [u'ENSG00000128973', (1, 1, 0)],\n",
       " [u'ENSG00000198765', (1, 1, 0)],\n",
       " [u'ENSG00000167525', (1, 1, 0)],\n",
       " [u'ENSG00000167965', (1, 1, 0)],\n",
       " [u'ENSG00000222040', (1, 1, 0)],\n",
       " [u'ENSG00000233806', (1, 1, 0)],\n",
       " [u'ENSG00000108786', (1, 1, 0)]]"
      ]
     },
     "execution_count": 25,
     "metadata": {},
     "output_type": "execute_result"
    }
   ],
   "source": [
    "scores[0:10]\n"
   ]
  },
  {
   "cell_type": "code",
   "execution_count": 87,
   "metadata": {
    "collapsed": false
   },
   "outputs": [
    {
     "data": {
      "text/plain": [
       "[(u'ENSG00000102054', <pyspark.resultiterable.ResultIterable at 0x1069f1190>),\n",
       " (u'ENSG00000124209', <pyspark.resultiterable.ResultIterable at 0x1069bb090>),\n",
       " (u'ENSG00000124201', <pyspark.resultiterable.ResultIterable at 0x1069bbcd0>),\n",
       " (u'ENSG00000144306', <pyspark.resultiterable.ResultIterable at 0x1069bbd10>),\n",
       " (u'ENSG00000240224', <pyspark.resultiterable.ResultIterable at 0x1069bbf90>),\n",
       " (u'ENSG00000216740', <pyspark.resultiterable.ResultIterable at 0x1069bb490>),\n",
       " (u'ENSG00000163684', <pyspark.resultiterable.ResultIterable at 0x1069bbfd0>),\n",
       " (u'ENSG00000215301', <pyspark.resultiterable.ResultIterable at 0x1069bb4d0>),\n",
       " (u'ENSG00000221287', <pyspark.resultiterable.ResultIterable at 0x1069bb3d0>),\n",
       " (u'ENSG00000176769', <pyspark.resultiterable.ResultIterable at 0x1069bb510>)]"
      ]
     },
     "execution_count": 87,
     "metadata": {},
     "output_type": "execute_result"
    }
   ],
   "source": [
    "#list(scores.take(2)[1][1])\n",
    "#scores.take(10)"
   ]
  },
  {
   "cell_type": "code",
   "execution_count": 19,
   "metadata": {
    "collapsed": true
   },
   "outputs": [],
   "source": [
    "scores=[\"ULB_Control_vs_NeuroDev_Gene\",\"geneUnivariate\",scores]"
   ]
  },
  {
   "cell_type": "code",
   "execution_count": 20,
   "metadata": {
    "collapsed": true
   },
   "outputs": [],
   "source": [
    "with open('ULB_Control_vs_NeuroDev_Gene.txt', 'w') as outfile:\n",
    "    json.dump(scores, outfile)"
   ]
  },
  {
   "cell_type": "markdown",
   "metadata": {},
   "source": [
    "##Bivariate"
   ]
  },
  {
   "cell_type": "code",
   "execution_count": 208,
   "metadata": {
    "collapsed": true
   },
   "outputs": [],
   "source": [
    "\n",
    "def scoreDigenicGene(k,variantLists):\n",
    "#    return (k,variantLists)\n",
    "    variantLists=list(variantLists)\n",
    "    result=[]\n",
    "    geno1sum=[]\n",
    "    geno2sum=[]\n",
    "    score=0\n",
    "    gene1=\"\"\n",
    "    gene2=\"\"\n",
    "    sumCase=-1\n",
    "    sumControl=-1\n",
    "    if len(variantLists)==2:\n",
    "        (genes,variantList1)=list(variantLists[0])\n",
    "        (genes,variantList2)=list(variantLists[1])\n",
    "        gene1=genes[0]\n",
    "        gene2=genes[1]\n",
    "        variantList1=list(variantList1)\n",
    "        variantList2=list(variantList2)\n",
    "        for i in range(0,len(variantList1)):\n",
    "            (locus1,geno1)=variantList1[i]\n",
    "            if geno1sum==[]:\n",
    "                geno1sum=[int(x) for x in geno1]\n",
    "            else:\n",
    "                geno1sum=[int(x)+int(y) for x,y in zip(geno1sum,b)]\n",
    "                \n",
    "        for i in range(0,len(variantList2)):\n",
    "            (locus2,geno2)=variantList2[i]\n",
    "            if geno2sum==[]:\n",
    "                geno2sum=[int(x) for x in geno2]\n",
    "            else:\n",
    "                geno2sum=[int(x)+int(y) for x,y in zip(geno2sum,b)]\n",
    "                \n",
    "        genosum=[x+y for x,y in zip(geno1sum,geno2sum)]\n",
    "        sumCase=sum([int(x>0) for x in genosum[0:indexControl]])\n",
    "        sumControl=sum([int(x>0) for x in genosum[indexControl:len(genosum)]])\n",
    "        score=sumCase\n",
    "        if sumControl>0:\n",
    "            score=0\n",
    "        \n",
    "    return (k,((gene1,gene2),score,sumCase,sumControl))\n",
    "\n"
   ]
  },
  {
   "cell_type": "code",
   "execution_count": 209,
   "metadata": {
    "collapsed": false
   },
   "outputs": [
    {
     "data": {
      "text/plain": [
       "[]"
      ]
     },
     "execution_count": 209,
     "metadata": {},
     "output_type": "execute_result"
    }
   ],
   "source": [
    "a=[]\n",
    "b=[0,1]\n",
    "#sum(b,[0,2])\n",
    "a = [x+y for x,y in zip(a,b)]\n",
    "a"
   ]
  },
  {
   "cell_type": "code",
   "execution_count": 210,
   "metadata": {
    "collapsed": true
   },
   "outputs": [],
   "source": [
    "def getGene(variantData):\n",
    "    variantData=variantData.split(\" \")\n",
    "    variantGene=variantData.pop(0)\n",
    "    \n",
    "    return (variantGene)\n"
   ]
  },
  {
   "cell_type": "code",
   "execution_count": 211,
   "metadata": {
    "collapsed": false
   },
   "outputs": [],
   "source": [
    "def createPairsGenes(k,v,genes):\n",
    "#    result=[]\n",
    "#    for gene in genes:\n",
    "#        result.append(((k,gene),v))\n",
    "    return [(str(sorted([k,gene])),(sorted([k,gene]),v)) for gene in genes]\n"
   ]
  },
  {
   "cell_type": "code",
   "execution_count": 212,
   "metadata": {
    "collapsed": false
   },
   "outputs": [
    {
     "name": "stdout",
     "output_type": "stream",
     "text": [
      "6.88692593575\n"
     ]
    }
   ],
   "source": [
    "start_time = time.time()\n",
    "#genes=sc.textFile(filename,nPartitions).map(getGene).distinct().takeOrdered(100000)#.flatMap(lambda (k,v):scoreCompound(k,v)).takeOrdered(100000, key=lambda (k,v1,v2,v3): -v1)\n",
    "scores=sc.textFile(filename,nPartitions).map(splitValues).groupByKey().flatMap(lambda (k,v):createPairsGenes(k,v,genes)).groupByKey().map(lambda (k,v):scoreDigenicGene(k,v)).takeOrdered(100, key=lambda (k,(genes,v1,v2,v3)): -v1)\n",
    "runtime=time.time() - start_time\n",
    "print(runtime)\n"
   ]
  },
  {
   "cell_type": "code",
   "execution_count": 215,
   "metadata": {
    "collapsed": false
   },
   "outputs": [
    {
     "data": {
      "text/plain": [
       "[(\"[u'ENSG00000186960', u'ENSG00000204120']\",\n",
       "  ((u'ENSG00000186960', u'ENSG00000204120'), 6, 6, 0)),\n",
       " (\"[u'ENSG00000181626', u'ENSG00000186960']\",\n",
       "  ((u'ENSG00000181626', u'ENSG00000186960'), 5, 5, 0))]"
      ]
     },
     "execution_count": 215,
     "metadata": {},
     "output_type": "execute_result"
    }
   ],
   "source": [
    "scores[0:2]\n",
    "#scores.take(1)[0][1]\n",
    "#sorted(['b','a'])\n"
   ]
  },
  {
   "cell_type": "code",
   "execution_count": 216,
   "metadata": {
    "collapsed": false
   },
   "outputs": [],
   "source": [
    "scores=[\"ULB_Control_vs_NeuroDev_Dam_Gene\",\"geneBivariate\",scores]"
   ]
  },
  {
   "cell_type": "code",
   "execution_count": 217,
   "metadata": {
    "collapsed": true
   },
   "outputs": [],
   "source": [
    "with open('ULB_Control_vs_NeuroDev_Dam_Gene.txt', 'w') as outfile:\n",
    "    json.dump(scores, outfile)"
   ]
  },
  {
   "cell_type": "markdown",
   "metadata": {},
   "source": [
    "#Common results"
   ]
  },
  {
   "cell_type": "code",
   "execution_count": null,
   "metadata": {
    "collapsed": false
   },
   "outputs": [],
   "source": [
    "#scores"
   ]
  },
  {
   "cell_type": "code",
   "execution_count": null,
   "metadata": {
    "collapsed": true
   },
   "outputs": [],
   "source": [
    "#scores=[\"neuroDev_Control\",\"geneUnivariate\",scores]"
   ]
  },
  {
   "cell_type": "code",
   "execution_count": null,
   "metadata": {
    "collapsed": false
   },
   "outputs": [],
   "source": [
    "#with open('neuroDev_Control.txt', 'w') as outfile:\n",
    "#    json.dump(scores, outfile)"
   ]
  },
  {
   "cell_type": "code",
   "execution_count": null,
   "metadata": {
    "collapsed": false
   },
   "outputs": [],
   "source": [
    "sc.stop()"
   ]
  },
  {
   "cell_type": "code",
   "execution_count": null,
   "metadata": {
    "collapsed": true
   },
   "outputs": [],
   "source": []
  }
 ],
 "metadata": {
  "kernelspec": {
   "display_name": "Python 2",
   "language": "python",
   "name": "python2"
  },
  "language_info": {
   "codemirror_mode": {
    "name": "ipython",
    "version": 2
   },
   "file_extension": ".py",
   "mimetype": "text/x-python",
   "name": "python",
   "nbconvert_exporter": "python",
   "pygments_lexer": "ipython2",
   "version": "2.7.10"
  }
 },
 "nbformat": 4,
 "nbformat_minor": 0
}
