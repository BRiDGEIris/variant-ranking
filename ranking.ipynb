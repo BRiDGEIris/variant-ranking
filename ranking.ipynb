{
 "cells": [
  {
   "cell_type": "code",
   "execution_count": 16,
   "metadata": {
    "collapsed": false
   },
   "outputs": [],
   "source": [
    "sc.stop()\n",
    "from pyspark import SparkContext, SparkConf\n",
    "from pyspark.sql import SQLContext\n",
    "from pyspark.sql.types import *\n",
    "nPartitions=4\n",
    "conf = (SparkConf()\n",
    "         .setMaster(\"local[\"+str(nPartitions)+\"]\")\n",
    "         .setAppName(\"Ranking\")\n",
    "#         .set(\"spark.executor.memory\", \"5g\")\n",
    "#         .set(\"spark.driver.memory\", \"5g\")\n",
    "#         .set(\"spark.python.worker.memory\", \"5g\")\n",
    "       )\n",
    "sc = SparkContext(conf=conf)\n",
    "sqlContext = SQLContext(sc)"
   ]
  },
  {
   "cell_type": "code",
   "execution_count": 2,
   "metadata": {
    "collapsed": true
   },
   "outputs": [],
   "source": [
    "import json\n",
    "import time"
   ]
  },
  {
   "cell_type": "code",
   "execution_count": 20,
   "metadata": {
    "collapsed": false
   },
   "outputs": [
    {
     "data": {
      "text/plain": [
       "pyspark.context.SparkContext"
      ]
     },
     "execution_count": 20,
     "metadata": {},
     "output_type": "execute_result"
    }
   ],
   "source": [
    "sc.__class__"
   ]
  },
  {
   "cell_type": "code",
   "execution_count": 3,
   "metadata": {
    "collapsed": true
   },
   "outputs": [],
   "source": [
    "indexControl=27"
   ]
  },
  {
   "cell_type": "markdown",
   "metadata": {},
   "source": [
    "##### "
   ]
  },
  {
   "cell_type": "code",
   "execution_count": 22,
   "metadata": {
    "collapsed": false
   },
   "outputs": [
    {
     "data": {
      "text/plain": [
       "pyspark.rdd.RDD"
      ]
     },
     "execution_count": 22,
     "metadata": {},
     "output_type": "execute_result"
    }
   ],
   "source": [
    "varMat.__class__"
   ]
  },
  {
   "cell_type": "code",
   "execution_count": 21,
   "metadata": {
    "collapsed": false
   },
   "outputs": [
    {
     "data": {
      "text/plain": [
       "[u' 1:109373320:A:G 0 0 0 0 0 0 0 0 0 0 0 0 0 0 0 0 0 0 0 0 0 0 0 0 0 0 0 0 0 0 0 0 0 0 0 1 0 0 0 0 0 0 0 0 0 0 0 0 0 0 0 0 0',\n",
       " u' 1:150524951:G:A 0 0 0 0 0 0 0 0 0 0 0 0 0 0 0 0 0 0 0 0 0 0 0 0 0 0 0 0 0 0 0 0 0 0 0 0 0 0 0 0 0 1 0 0 0 0 0 0 0 0 0 0 0']"
      ]
     },
     "execution_count": 21,
     "metadata": {},
     "output_type": "execute_result"
    }
   ],
   "source": [
    "filename=\"genoMatTolControlRare.txt\"\n",
    "#filename=\"geno10m30.txt\"\n",
    "varMat = sc.textFile(filename)\n",
    "varMat.take(2)"
   ]
  },
  {
   "cell_type": "code",
   "execution_count": 9,
   "metadata": {
    "collapsed": false
   },
   "outputs": [
    {
     "data": {
      "text/plain": [
       "34940"
      ]
     },
     "execution_count": 9,
     "metadata": {},
     "output_type": "execute_result"
    }
   ],
   "source": [
    "varMat.count()"
   ]
  },
  {
   "cell_type": "code",
   "execution_count": 15,
   "metadata": {
    "collapsed": false
   },
   "outputs": [
    {
     "ename": "AttributeError",
     "evalue": "'RDD' object has no attribute '_jsc'",
     "output_type": "error",
     "traceback": [
      "\u001b[0;31m---------------------------------------------------------------------------\u001b[0m",
      "\u001b[0;31mAttributeError\u001b[0m                            Traceback (most recent call last)",
      "\u001b[0;32m<ipython-input-15-d6e43c40edc2>\u001b[0m in \u001b[0;36m<module>\u001b[0;34m()\u001b[0m\n\u001b[0;32m----> 1\u001b[0;31m \u001b[0mdf\u001b[0m \u001b[0;34m=\u001b[0m \u001b[0mSQLContext\u001b[0m\u001b[0;34m(\u001b[0m\u001b[0msc\u001b[0m\u001b[0;34m.\u001b[0m\u001b[0mtextFile\u001b[0m\u001b[0;34m(\u001b[0m\u001b[0mfilename\u001b[0m\u001b[0;34m)\u001b[0m\u001b[0;34m)\u001b[0m\u001b[0;34m\u001b[0m\u001b[0m\n\u001b[0m",
      "\u001b[0;32m/Users/yalb/spark/python/pyspark/sql/context.py\u001b[0m in \u001b[0;36m__init__\u001b[0;34m(self, sparkContext, sqlContext)\u001b[0m\n\u001b[1;32m     95\u001b[0m         \"\"\"\n\u001b[1;32m     96\u001b[0m         \u001b[0mself\u001b[0m\u001b[0;34m.\u001b[0m\u001b[0m_sc\u001b[0m \u001b[0;34m=\u001b[0m \u001b[0msparkContext\u001b[0m\u001b[0;34m\u001b[0m\u001b[0m\n\u001b[0;32m---> 97\u001b[0;31m         \u001b[0mself\u001b[0m\u001b[0;34m.\u001b[0m\u001b[0m_jsc\u001b[0m \u001b[0;34m=\u001b[0m \u001b[0mself\u001b[0m\u001b[0;34m.\u001b[0m\u001b[0m_sc\u001b[0m\u001b[0;34m.\u001b[0m\u001b[0m_jsc\u001b[0m\u001b[0;34m\u001b[0m\u001b[0m\n\u001b[0m\u001b[1;32m     98\u001b[0m         \u001b[0mself\u001b[0m\u001b[0;34m.\u001b[0m\u001b[0m_jvm\u001b[0m \u001b[0;34m=\u001b[0m \u001b[0mself\u001b[0m\u001b[0;34m.\u001b[0m\u001b[0m_sc\u001b[0m\u001b[0;34m.\u001b[0m\u001b[0m_jvm\u001b[0m\u001b[0;34m\u001b[0m\u001b[0m\n\u001b[1;32m     99\u001b[0m         \u001b[0mself\u001b[0m\u001b[0;34m.\u001b[0m\u001b[0m_scala_SQLContext\u001b[0m \u001b[0;34m=\u001b[0m \u001b[0msqlContext\u001b[0m\u001b[0;34m\u001b[0m\u001b[0m\n",
      "\u001b[0;31mAttributeError\u001b[0m: 'RDD' object has no attribute '_jsc'"
     ]
    }
   ],
   "source": [
    "df = SQLContext(sc.textFile(filename))"
   ]
  },
  {
   "cell_type": "code",
   "execution_count": 2,
   "metadata": {
    "collapsed": false
   },
   "outputs": [
    {
     "ename": "AttributeError",
     "evalue": "'RDD' object has no attribute 'write'",
     "output_type": "error",
     "traceback": [
      "\u001b[0;31m---------------------------------------------------------------------------\u001b[0m",
      "\u001b[0;31mAttributeError\u001b[0m                            Traceback (most recent call last)",
      "\u001b[0;32m<ipython-input-2-6f5325051c05>\u001b[0m in \u001b[0;36m<module>\u001b[0;34m()\u001b[0m\n\u001b[0;32m----> 1\u001b[0;31m \u001b[0mvarMat\u001b[0m\u001b[0;34m.\u001b[0m\u001b[0mwrite\u001b[0m\u001b[0;34m.\u001b[0m\u001b[0mparquet\u001b[0m\u001b[0;34m(\u001b[0m\u001b[0;34m\"genomat.parquet\"\u001b[0m\u001b[0;34m)\u001b[0m\u001b[0;34m\u001b[0m\u001b[0m\n\u001b[0m",
      "\u001b[0;31mAttributeError\u001b[0m: 'RDD' object has no attribute 'write'"
     ]
    }
   ],
   "source": [
    "varMat.write.parquet(\"genomat.parquet\")"
   ]
  },
  {
   "cell_type": "markdown",
   "metadata": {},
   "source": [
    "#Common functions"
   ]
  },
  {
   "cell_type": "code",
   "execution_count": 6,
   "metadata": {
    "collapsed": true
   },
   "outputs": [],
   "source": [
    "def splitValues(variantData):\n",
    "    variantData=variantData.split(\" \")\n",
    "    variantGene=variantData.pop(0)\n",
    "    variantLocus=variantData.pop(0)\n",
    "    \n",
    "    return (variantGene,(variantLocus,variantData))\n",
    "\n",
    "def makePairParts(k,v,nbPart):\n",
    "    result=[]\n",
    "    for i in range(0,nbPart):\n",
    "        result.append(((k,i),v))\n",
    "        \n",
    "    return [(str(sorted([k,i])),(v)) for i in range(0,nbPart)]\n",
    "\n",
    "def f(splitIndex ,v): \n",
    "    return [(splitIndex,list(v))]"
   ]
  },
  {
   "cell_type": "markdown",
   "metadata": {},
   "source": [
    "#Variant"
   ]
  },
  {
   "cell_type": "markdown",
   "metadata": {},
   "source": [
    "##De Novo"
   ]
  },
  {
   "cell_type": "code",
   "execution_count": null,
   "metadata": {
    "collapsed": true
   },
   "outputs": [],
   "source": [
    "def scoreDeNovo(variantData):\n",
    "    variantData=variantData.split(\" \")\n",
    "    variantGene=variantData.pop(0)\n",
    "    variantLocus=variantData.pop(0)\n",
    "    \n",
    "    score=0\n",
    "    listTrios=[]\n",
    "    checkValid=0\n",
    "    nTrios=len(variantData)/3\n",
    "    for i in range(0,nTrios):\n",
    "        checkValid=checkValid+int(variantData[i*3+1])+int(variantData[i*3+2])\n",
    "    \n",
    "    if checkValid==0:                              \n",
    "        for i in range(0,nTrios):\n",
    "            scoreTrio=int(variantData[(i*3)]==\"1\" and variantData[i*3+1]==\"0\" and variantData[i*3+2]==\"0\")\n",
    "            if scoreTrio>0:\n",
    "                listTrios.append(i)\n",
    "                score=score+scoreTrio\n",
    "            \n",
    "    return ((variantGene,variantLocus),score,listTrios,variantData)"
   ]
  },
  {
   "cell_type": "code",
   "execution_count": null,
   "metadata": {
    "collapsed": false
   },
   "outputs": [],
   "source": [
    "#start_time = time.time()\n",
    "#scores=sc.textFile(filename).repartition(nPartitions).map(scoreDeNovo).filter(lambda (k,v1,v2,v3): v1>0).takeOrdered(100000, key=lambda (k,v1,v2,v3): -v1)\n",
    "#runtime=time.time() - start_time\n",
    "#print(runtime)"
   ]
  },
  {
   "cell_type": "code",
   "execution_count": null,
   "metadata": {
    "collapsed": true
   },
   "outputs": [],
   "source": [
    "#scores=[\"TriosDeNovo\",\"singleVariant\",scores]"
   ]
  },
  {
   "cell_type": "code",
   "execution_count": null,
   "metadata": {
    "collapsed": false
   },
   "outputs": [],
   "source": [
    "#with open('ULB_Control_vs_NeuroDev.txt', 'w') as outfile:\n",
    "#    json.dump(scores, outfile)\n"
   ]
  },
  {
   "cell_type": "markdown",
   "metadata": {},
   "source": [
    "##Compound"
   ]
  },
  {
   "cell_type": "code",
   "execution_count": null,
   "metadata": {
    "collapsed": true
   },
   "outputs": [],
   "source": [
    "def scoreCompound(k,variantList):\n",
    "    variantList=list(variantList)\n",
    "    result=[]\n",
    "    if len(variantList)>1:\n",
    "        for i in range(0,len(variantList)-1):\n",
    "            (locus1,geno1)=variantList[i]\n",
    "            for j in range(i+1,len(variantList)):\n",
    "                (locus2,geno2)=variantList[j]\n",
    "                (score,listTrios)=getScorePair(geno1,geno2)\n",
    "                if score>0:\n",
    "                    result.append(((k,locus1,locus2),score,listTrios,[geno1,geno2]))\n",
    "        \n",
    "    return result"
   ]
  },
  {
   "cell_type": "code",
   "execution_count": null,
   "metadata": {
    "collapsed": true
   },
   "outputs": [],
   "source": [
    "def getScorePair(geno1,geno2):\n",
    "    score=0\n",
    "    listTrios=[]\n",
    "    checkValid=0\n",
    "    nTrios=len(geno1)/3\n",
    "    for i in range(0,nTrios):\n",
    "        checkValid=checkValid+int(int(geno1[i*3+1])>0 and int(geno2[i*3+1])>0)+int(int(geno1[i*3+2])>0 and int(geno2[i*3+2])>0)\n",
    "        \n",
    "    if checkValid==0:\n",
    "        for i in range(0,nTrios):\n",
    "            scoreTrio=int(geno1[i*3]==\"1\" and geno2[i*3]==\"1\" and \n",
    "                          ((geno1[i*3+1]==\"1\" and geno2[i*3+1]==\"0\" and geno1[i*3+2]==\"0\" and geno2[i*3+2]==\"1\") or\n",
    "                           (geno1[i*3+1]==\"0\" and geno2[i*3+1]==\"1\" and geno1[i*3+2]==\"1\" and geno2[i*3+2]==\"0\")))\n",
    "            if scoreTrio>0:\n",
    "                listTrios.append(i)\n",
    "                score=score+scoreTrio\n",
    "    return (score,listTrios)"
   ]
  },
  {
   "cell_type": "code",
   "execution_count": null,
   "metadata": {
    "collapsed": false
   },
   "outputs": [],
   "source": [
    "#start_time = time.time()\n",
    "#scores=sc.textFile(filename,nPartitions).map(splitValues).groupByKey().flatMap(lambda (k,v):scoreCompound(k,v)).takeOrdered(100000, key=lambda (k,v1,v2,v3): -v1)\n",
    "#runtime=time.time() - start_time\n",
    "#print(runtime)"
   ]
  },
  {
   "cell_type": "code",
   "execution_count": null,
   "metadata": {
    "collapsed": false
   },
   "outputs": [],
   "source": [
    "#len(scores)"
   ]
  },
  {
   "cell_type": "markdown",
   "metadata": {},
   "source": [
    "##Digenic"
   ]
  },
  {
   "cell_type": "code",
   "execution_count": null,
   "metadata": {
    "collapsed": true
   },
   "outputs": [],
   "source": [
    "def scoreDigenic(k,variantLists):\n",
    "    variantLists=list(variantLists)\n",
    "    result=[]\n",
    "    if len(variantLists)==2:\n",
    "        variantList1=list(variantLists[0])\n",
    "        variantList2=list(variantLists[1])\n",
    "        \n",
    "        for i in range(0,len(variantList1)):\n",
    "            (gene1,(locus1,geno1))=variantList1[i]\n",
    "            for j in range(0,len(variantList2)):\n",
    "                (gene2,(locus2,geno2))=variantList2[j]\n",
    "                (score,listTrios)=getScorePair(geno1,geno2)\n",
    "                if score>0:\n",
    "                    result.append(((gene1,locus1,gene2,locus2),score,listTrios,[geno1,geno2]))\n",
    "        \n",
    "    return result"
   ]
  },
  {
   "cell_type": "code",
   "execution_count": null,
   "metadata": {
    "collapsed": false
   },
   "outputs": [],
   "source": [
    "start_time = time.time()\n",
    "scores=sc.textFile(filename,nPartitions).map(splitValues).mapPartitionsWithIndex(f).flatMap(lambda (k,v):makePairParts(k,v,nPartitions)).groupByKey().flatMap(lambda (k,v):scoreDigenic(k,v)).takeOrdered(100, key=lambda (k,v1,v2,v3): -v1)\n",
    "runtime=time.time() - start_time\n",
    "print(runtime)"
   ]
  },
  {
   "cell_type": "code",
   "execution_count": null,
   "metadata": {
    "collapsed": true
   },
   "outputs": [],
   "source": [
    "len(scores)"
   ]
  },
  {
   "cell_type": "markdown",
   "metadata": {},
   "source": [
    "#Gene"
   ]
  },
  {
   "cell_type": "markdown",
   "metadata": {},
   "source": [
    "##Univariate"
   ]
  },
  {
   "cell_type": "code",
   "execution_count": 26,
   "metadata": {
    "collapsed": false
   },
   "outputs": [],
   "source": [
    "def scoreGeneUnivariate(k,variantList):\n",
    "    variantList=list(variantList)\n",
    "    result=[k,(0,0,0)]\n",
    "    sumCase=0\n",
    "    sumControl=0\n",
    "    score=0\n",
    "    genosum=[]\n",
    "    if len(variantList)>0:\n",
    "        for i in range(0,len(variantList)):\n",
    "            (locus,geno)=variantList[i]\n",
    "            if genosum==[]:\n",
    "                genosum=[int(x) for x in geno]\n",
    "            else:\n",
    "                genosum=[int(x)+int(y) for x,y in zip(genosum,geno)]\n",
    "                \n",
    "        sumCase=sum([int(x>0) for x in genosum[0:indexControl]])\n",
    "        sumControl=sum([int(x>0) for x in genosum[indexControl:len(genosum)]])\n",
    "        score=sumCase-sumControl\n",
    "        #if sumControl>0:\n",
    "        #    score=0\n",
    "\n",
    "    #if score>0:\n",
    "    result=[k,(score,sumCase,sumControl)]\n",
    "    \n",
    "    return result"
   ]
  },
  {
   "cell_type": "code",
   "execution_count": 40,
   "metadata": {
    "collapsed": false
   },
   "outputs": [],
   "source": [
    "scores=sc.textFile(filename,nPartitions).map(splitValues).groupByKey().map(lambda (k,v):scoreGeneUnivariate(k,v)).filter(lambda (k,(v1,v2,v3)): v1>0).takeOrdered(10000, key=lambda (k,(v1,v2,v3)): -v1)"
   ]
  },
  {
   "cell_type": "code",
   "execution_count": 41,
   "metadata": {
    "collapsed": false
   },
   "outputs": [
    {
     "data": {
      "text/plain": [
       "[[u'ENSG00000151233', (22, 24, 2)],\n",
       " [u'ENSG00000109919', (19, 23, 4)],\n",
       " [u'ENSG00000136938', (17, 24, 7)],\n",
       " [u'ENSG00000064666', (17, 27, 10)],\n",
       " [u'ENSG00000163046', (15, 19, 4)],\n",
       " [u'ENSG00000235436', (14, 15, 1)],\n",
       " [u'ENSG00000005022', (13, 23, 10)],\n",
       " [u'ENSG00000142599', (12, 13, 1)],\n",
       " [u'ENSG00000160298', (12, 14, 2)],\n",
       " [u'ENSG00000155380', (11, 13, 2)]]"
      ]
     },
     "execution_count": 41,
     "metadata": {},
     "output_type": "execute_result"
    }
   ],
   "source": [
    "scores[0:10]\n"
   ]
  },
  {
   "cell_type": "code",
   "execution_count": 42,
   "metadata": {
    "collapsed": false
   },
   "outputs": [],
   "source": [
    "#list(scores.take(2)[1][1])\n",
    "#scores.take(10)"
   ]
  },
  {
   "cell_type": "code",
   "execution_count": 43,
   "metadata": {
    "collapsed": true
   },
   "outputs": [],
   "source": [
    "scores=[\"tol_ctrl_rare\",\"geneUnivariate\",scores]"
   ]
  },
  {
   "cell_type": "code",
   "execution_count": 44,
   "metadata": {
    "collapsed": true
   },
   "outputs": [],
   "source": [
    "with open('tol_ctrl_rare.txt', 'w') as outfile:\n",
    "    json.dump(scores, outfile)"
   ]
  },
  {
   "cell_type": "markdown",
   "metadata": {},
   "source": [
    "##Bivariate"
   ]
  },
  {
   "cell_type": "code",
   "execution_count": 208,
   "metadata": {
    "collapsed": true
   },
   "outputs": [],
   "source": [
    "\n",
    "def scoreDigenicGene(k,variantLists):\n",
    "#    return (k,variantLists)\n",
    "    variantLists=list(variantLists)\n",
    "    result=[]\n",
    "    geno1sum=[]\n",
    "    geno2sum=[]\n",
    "    score=0\n",
    "    gene1=\"\"\n",
    "    gene2=\"\"\n",
    "    sumCase=-1\n",
    "    sumControl=-1\n",
    "    if len(variantLists)==2:\n",
    "        (genes,variantList1)=list(variantLists[0])\n",
    "        (genes,variantList2)=list(variantLists[1])\n",
    "        gene1=genes[0]\n",
    "        gene2=genes[1]\n",
    "        variantList1=list(variantList1)\n",
    "        variantList2=list(variantList2)\n",
    "        for i in range(0,len(variantList1)):\n",
    "            (locus1,geno1)=variantList1[i]\n",
    "            if geno1sum==[]:\n",
    "                geno1sum=[int(x) for x in geno1]\n",
    "            else:\n",
    "                geno1sum=[int(x)+int(y) for x,y in zip(geno1sum,b)]\n",
    "                \n",
    "        for i in range(0,len(variantList2)):\n",
    "            (locus2,geno2)=variantList2[i]\n",
    "            if geno2sum==[]:\n",
    "                geno2sum=[int(x) for x in geno2]\n",
    "            else:\n",
    "                geno2sum=[int(x)+int(y) for x,y in zip(geno2sum,b)]\n",
    "                \n",
    "        genosum=[x+y for x,y in zip(geno1sum,geno2sum)]\n",
    "        sumCase=sum([int(x>0) for x in genosum[0:indexControl]])\n",
    "        sumControl=sum([int(x>0) for x in genosum[indexControl:len(genosum)]])\n",
    "        score=sumCase\n",
    "        if sumControl>0:\n",
    "            score=0\n",
    "        \n",
    "    return (k,((gene1,gene2),score,sumCase,sumControl))\n",
    "\n"
   ]
  },
  {
   "cell_type": "code",
   "execution_count": 209,
   "metadata": {
    "collapsed": false
   },
   "outputs": [
    {
     "data": {
      "text/plain": [
       "[]"
      ]
     },
     "execution_count": 209,
     "metadata": {},
     "output_type": "execute_result"
    }
   ],
   "source": [
    "a=[]\n",
    "b=[0,1]\n",
    "#sum(b,[0,2])\n",
    "a = [x+y for x,y in zip(a,b)]\n",
    "a"
   ]
  },
  {
   "cell_type": "code",
   "execution_count": 210,
   "metadata": {
    "collapsed": true
   },
   "outputs": [],
   "source": [
    "def getGene(variantData):\n",
    "    variantData=variantData.split(\" \")\n",
    "    variantGene=variantData.pop(0)\n",
    "    \n",
    "    return (variantGene)\n"
   ]
  },
  {
   "cell_type": "code",
   "execution_count": 211,
   "metadata": {
    "collapsed": false
   },
   "outputs": [],
   "source": [
    "def createPairsGenes(k,v,genes):\n",
    "#    result=[]\n",
    "#    for gene in genes:\n",
    "#        result.append(((k,gene),v))\n",
    "    return [(str(sorted([k,gene])),(sorted([k,gene]),v)) for gene in genes]\n"
   ]
  },
  {
   "cell_type": "code",
   "execution_count": 212,
   "metadata": {
    "collapsed": false
   },
   "outputs": [
    {
     "name": "stdout",
     "output_type": "stream",
     "text": [
      "6.88692593575\n"
     ]
    }
   ],
   "source": [
    "start_time = time.time()\n",
    "#genes=sc.textFile(filename,nPartitions).map(getGene).distinct().takeOrdered(100000)#.flatMap(lambda (k,v):scoreCompound(k,v)).takeOrdered(100000, key=lambda (k,v1,v2,v3): -v1)\n",
    "scores=sc.textFile(filename,nPartitions).map(splitValues).groupByKey().flatMap(lambda (k,v):createPairsGenes(k,v,genes)).groupByKey().map(lambda (k,v):scoreDigenicGene(k,v)).takeOrdered(100, key=lambda (k,(genes,v1,v2,v3)): -v1)\n",
    "runtime=time.time() - start_time\n",
    "print(runtime)\n"
   ]
  },
  {
   "cell_type": "code",
   "execution_count": 215,
   "metadata": {
    "collapsed": false
   },
   "outputs": [
    {
     "data": {
      "text/plain": [
       "[(\"[u'ENSG00000186960', u'ENSG00000204120']\",\n",
       "  ((u'ENSG00000186960', u'ENSG00000204120'), 6, 6, 0)),\n",
       " (\"[u'ENSG00000181626', u'ENSG00000186960']\",\n",
       "  ((u'ENSG00000181626', u'ENSG00000186960'), 5, 5, 0))]"
      ]
     },
     "execution_count": 215,
     "metadata": {},
     "output_type": "execute_result"
    }
   ],
   "source": [
    "scores[0:2]\n",
    "#scores.take(1)[0][1]\n",
    "#sorted(['b','a'])\n"
   ]
  },
  {
   "cell_type": "code",
   "execution_count": 216,
   "metadata": {
    "collapsed": false
   },
   "outputs": [],
   "source": [
    "scores=[\"ULB_Control_vs_NeuroDev_Dam_Gene\",\"geneBivariate\",scores]"
   ]
  },
  {
   "cell_type": "code",
   "execution_count": 217,
   "metadata": {
    "collapsed": true
   },
   "outputs": [],
   "source": [
    "with open('ULB_Control_vs_NeuroDev_Dam_Gene.txt', 'w') as outfile:\n",
    "    json.dump(scores, outfile)"
   ]
  },
  {
   "cell_type": "markdown",
   "metadata": {},
   "source": [
    "#Common results"
   ]
  },
  {
   "cell_type": "code",
   "execution_count": null,
   "metadata": {
    "collapsed": false
   },
   "outputs": [],
   "source": [
    "#scores"
   ]
  },
  {
   "cell_type": "code",
   "execution_count": null,
   "metadata": {
    "collapsed": true
   },
   "outputs": [],
   "source": [
    "#scores=[\"neuroDev_Control\",\"geneUnivariate\",scores]"
   ]
  },
  {
   "cell_type": "code",
   "execution_count": null,
   "metadata": {
    "collapsed": false
   },
   "outputs": [],
   "source": [
    "#with open('neuroDev_Control.txt', 'w') as outfile:\n",
    "#    json.dump(scores, outfile)"
   ]
  },
  {
   "cell_type": "code",
   "execution_count": null,
   "metadata": {
    "collapsed": false
   },
   "outputs": [],
   "source": [
    "sc.stop()"
   ]
  },
  {
   "cell_type": "code",
   "execution_count": null,
   "metadata": {
    "collapsed": true
   },
   "outputs": [],
   "source": []
  }
 ],
 "metadata": {
  "kernelspec": {
   "display_name": "Python 2",
   "language": "python",
   "name": "python2"
  },
  "language_info": {
   "codemirror_mode": {
    "name": "ipython",
    "version": 2
   },
   "file_extension": ".py",
   "mimetype": "text/x-python",
   "name": "python",
   "nbconvert_exporter": "python",
   "pygments_lexer": "ipython2",
   "version": "2.7.10"
  }
 },
 "nbformat": 4,
 "nbformat_minor": 0
}
