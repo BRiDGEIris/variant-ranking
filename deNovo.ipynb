{
 "metadata": {
  "name": "deNovo"
 }, 
 "nbformat": 2, 
 "worksheets": [
  {
   "cells": [
    {
     "cell_type": "code", 
     "collapsed": true, 
     "input": [
      "from pyspark import SparkContext", 
      "sc = SparkContext(\"local[8]\", \"Simple App\")"
     ], 
     "language": "python", 
     "outputs": [], 
     "prompt_number": 1
    }, 
    {
     "cell_type": "code", 
     "collapsed": true, 
     "input": [
      "import json"
     ], 
     "language": "python", 
     "outputs": [], 
     "prompt_number": 2
    }, 
    {
     "cell_type": "code", 
     "collapsed": false, 
     "input": [
      "filename=\"varMat2.txt\"", 
      "varMat = sc.textFile(filename)", 
      "varMat.take(2)"
     ], 
     "language": "python", 
     "outputs": [
      {
       "output_type": "pyout", 
       "prompt_number": 3, 
       "text": [
        "[u'ENSG00000153714 9:12821853 G C 0 0 0 0 0 0 0 0 0 0 0 0 0 0 0 1 1 0 0 0 0 0 0 0 0 0 0 0 0 0 0 0 0',", 
        " u'ENSG00000159140 21:34915325 G C 2 2 2 2 2 2 2 2 2 2 2 2 2 2 2 2 2 2 2 2 2 2 2 2 2 2 2 2 2 2 2 2 2']"
       ]
      }
     ], 
     "prompt_number": 3
    }, 
    {
     "cell_type": "code", 
     "collapsed": false, 
     "input": [
      "varMat.count()"
     ], 
     "language": "python", 
     "outputs": [
      {
       "output_type": "pyout", 
       "prompt_number": 4, 
       "text": [
        "33012"
       ]
      }
     ], 
     "prompt_number": 4
    }, 
    {
     "cell_type": "code", 
     "collapsed": true, 
     "input": [
      "varMat=varMat.repartition(8)"
     ], 
     "language": "python", 
     "outputs": [], 
     "prompt_number": 5
    }, 
    {
     "cell_type": "code", 
     "collapsed": true, 
     "input": [
      "def scoreDeNovo(variantData):", 
      "    variantData=variantData.split(\" \")", 
      "    variantGene=variantData.pop(0)", 
      "    variantLocus=variantData.pop(0)", 
      "    variantRef=variantData.pop(0)", 
      "    variantAlt=variantData.pop(0)", 
      "    ", 
      "    score=0", 
      "    listTrios=[]", 
      "    checkValid=0", 
      "    for i in range(0,11):", 
      "        checkValid=checkValid+int(variantData[i*3+1])+int(variantData[i*3+2])", 
      "    ", 
      "    if checkValid==0:                              ", 
      "        for i in range(0,11):", 
      "            scoreTrio=int(variantData[(i*3)]==\"1\" and variantData[i*3+1]==\"0\" and variantData[i*3+2]==\"0\")", 
      "            if scoreTrio>0:", 
      "                listTrios.append(i)", 
      "                score=score+scoreTrio", 
      "            ", 
      "    return ((variantGene,variantLocus,variantRef,variantAlt),score,listTrios,variantData)"
     ], 
     "language": "python", 
     "outputs": [], 
     "prompt_number": 6
    }, 
    {
     "cell_type": "code", 
     "collapsed": true, 
     "input": [
      "scores=sc.textFile(filename,8).map(scoreDeNovo).filter(lambda (k,v1,v2,v3): v1>0).takeOrdered(100, key=lambda (k,v1,v2,v3): -v1)"
     ], 
     "language": "python", 
     "outputs": [], 
     "prompt_number": 8
    }, 
    {
     "cell_type": "code", 
     "collapsed": false, 
     "input": [
      "len(scores)"
     ], 
     "language": "python", 
     "outputs": [
      {
       "output_type": "pyout", 
       "prompt_number": 9, 
       "text": [
        "30"
       ]
      }
     ], 
     "prompt_number": 9
    }, 
    {
     "cell_type": "code", 
     "collapsed": true, 
     "input": [
      "scores=[\"TriosDeNovo\",\"singleVariant\",scores]"
     ], 
     "language": "python", 
     "outputs": [], 
     "prompt_number": 10
    }, 
    {
     "cell_type": "code", 
     "collapsed": true, 
     "input": [
      "with open('singVarDeNovo2.txt', 'w') as outfile:", 
      "    json.dump(scores, outfile)"
     ], 
     "language": "python", 
     "outputs": [], 
     "prompt_number": 11
    }, 
    {
     "cell_type": "code", 
     "collapsed": true, 
     "input": [
      "sc.stop()"
     ], 
     "language": "python", 
     "outputs": [], 
     "prompt_number": 10
    }, 
    {
     "cell_type": "code", 
     "collapsed": true, 
     "input": [], 
     "language": "python", 
     "outputs": []
    }
   ]
  }
 ]
}