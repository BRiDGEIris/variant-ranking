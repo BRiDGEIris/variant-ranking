{
 "metadata": {
  "name": "digenic"
 }, 
 "nbformat": 2, 
 "worksheets": [
  {
   "cells": [
    {
     "cell_type": "code", 
     "collapsed": true, 
     "input": [
      "from pyspark import SparkContext", 
      "sc = SparkContext(\"local[8]\", \"Digenic\")"
     ], 
     "language": "python", 
     "outputs": [], 
     "prompt_number": 1
    }, 
    {
     "cell_type": "code", 
     "collapsed": true, 
     "input": [
      "import json"
     ], 
     "language": "python", 
     "outputs": [], 
     "prompt_number": 2
    }, 
    {
     "cell_type": "code", 
     "collapsed": true, 
     "input": [
      "filename=\"varMat2.txt\"", 
      "nbPart=20", 
      "varMat = sc.textFile(filename).take(5000)", 
      "varMat = sc.parallelize(varMat,nbPart)", 
      "varMat.count()"
     ], 
     "language": "python", 
     "outputs": [], 
     "prompt_number": 8
    }, 
    {
     "cell_type": "code", 
     "collapsed": true, 
     "input": [
      "varMat.take(2)"
     ], 
     "language": "python", 
     "outputs": [], 
     "prompt_number": 5
    }, 
    {
     "cell_type": "code", 
     "collapsed": true, 
     "input": [
      "def getScorePair(geno1,geno2):", 
      "    score=0", 
      "    listTrios=[]", 
      "    checkValid=0", 
      "    for i in range(0,11):", 
      "        checkValid=checkValid+int(int(geno1[i*3+1])>0 and int(geno2[i*3+1])>0)+int(int(geno1[i*3+2])>0 and int(geno2[i*3+2])>0)", 
      "        ", 
      "    if checkValid>=0:", 
      "    ", 
      "        for i in range(0,11):", 
      "            scoreTrio=int(geno1[i*3]==\"1\" and geno2[i*3]==\"1\" and ", 
      "                            ((geno1[i*3+1]==\"1\" and geno2[i*3+1]==\"0\" and geno1[i*3+2]==\"0\" and geno2[i*3+2]==\"1\") or", 
      "                            (geno1[i*3+1]==\"0\" and geno2[i*3+1]==\"1\" and geno1[i*3+2]==\"1\" and geno2[i*3+2]==\"0\")))", 
      "            if scoreTrio>0:", 
      "                listTrios.append(i)", 
      "                score=score+scoreTrio", 
      "    return (score,listTrios)"
     ], 
     "language": "python", 
     "outputs": [], 
     "prompt_number": 3
    }, 
    {
     "cell_type": "code", 
     "collapsed": true, 
     "input": [
      "def makePairParts(k,v,nbPart):", 
      "    result=[]", 
      "    for i in range(0,nbPart):", 
      "        result.append(((k,i),v))", 
      "        ", 
      "    return [(str(sorted([k,i])),(v)) for i in range(0,nbPart)]"
     ], 
     "language": "python", 
     "outputs": [], 
     "prompt_number": 4
    }, 
    {
     "cell_type": "code", 
     "collapsed": true, 
     "input": [
      "def scoreDigenic(k,variantLists):", 
      "    variantLists=list(variantLists)", 
      "    result=[]", 
      "    if len(variantLists)==2:", 
      "        variantList1=list(variantLists[0])", 
      "        variantList2=list(variantLists[1])", 
      "        ", 
      "        for i in range(0,len(variantList1)):", 
      "            (gene1,locus1,ref1,alt1,geno1)=variantList1[i]", 
      "            for j in range(0,len(variantList2)):", 
      "                (gene2,locus2,ref2,alt2,geno2)=variantList2[j]", 
      "                (score,listTrios)=getScorePair(geno1,geno2)", 
      "                if score>0:", 
      "                    result.append(((gene1,locus1,ref1,alt1,gene2,locus2,ref2,alt2),score,listTrios,[geno1,geno2]))", 
      "        ", 
      "    return result"
     ], 
     "language": "python", 
     "outputs": [], 
     "prompt_number": 5
    }, 
    {
     "cell_type": "code", 
     "collapsed": true, 
     "input": [
      "def splitValues(variantData):", 
      "    variantData=variantData.split(\" \")", 
      "    variantGene=variantData.pop(0)", 
      "    variantLocus=variantData.pop(0)", 
      "    variantRef=variantData.pop(0)", 
      "    variantAlt=variantData.pop(0)", 
      "    ", 
      "    return (variantGene,variantLocus,variantRef,variantAlt,variantData)"
     ], 
     "language": "python", 
     "outputs": [], 
     "prompt_number": 6
    }, 
    {
     "cell_type": "code", 
     "collapsed": true, 
     "input": [
      "stage1=varMat.map(splitValues)", 
      "stage1.count()"
     ], 
     "language": "python", 
     "outputs": [], 
     "prompt_number": 9
    }, 
    {
     "cell_type": "code", 
     "collapsed": true, 
     "input": [
      "def f(splitIndex ,v): ", 
      "    return [(splitIndex,list(v))]", 
      "", 
      "stage2=stage1.mapPartitionsWithIndex(f)", 
      "stage2.count()"
     ], 
     "language": "python", 
     "outputs": [], 
     "prompt_number": 10
    }, 
    {
     "cell_type": "code", 
     "collapsed": true, 
     "input": [
      "stage3=stage2.flatMap(lambda (k,v):makePairParts(k,v,nbPart)).groupByKey()", 
      "len(list(stage3.take(1)[0][1])[0])", 
      "stage3.take(1)"
     ], 
     "language": "python", 
     "outputs": [], 
     "prompt_number": 18
    }, 
    {
     "cell_type": "code", 
     "collapsed": true, 
     "input": [
      "stage4=stage3.flatMap(lambda (k,v):scoreDigenic(k,v))", 
      "stage4.count()"
     ], 
     "language": "python", 
     "outputs": [], 
     "prompt_number": 19
    }, 
    {
     "cell_type": "code", 
     "collapsed": true, 
     "input": [
      "scores=stage4.takeOrdered(10, key=lambda (k,(v1,v2,v3,v4)): -v1)"
     ], 
     "language": "python", 
     "outputs": [], 
     "prompt_number": 20
    }, 
    {
     "cell_type": "code", 
     "collapsed": true, 
     "input": [
      "filename=\"varMat2.txt\"", 
      "nbPart=100", 
      "varMat = sc.textFile(filename).take(1000)", 
      "", 
      "def f(splitIndex ,v): ", 
      "    return [(splitIndex,list(v))]"
     ], 
     "language": "python", 
     "outputs": [], 
     "prompt_number": 7
    }, 
    {
     "cell_type": "code", 
     "collapsed": false, 
     "input": [
      "scores=sc.parallelize(varMat,nbPart).map(splitValues).mapPartitionsWithIndex(f).flatMap(lambda (k,v):makePairParts(k,v,nbPart)).groupByKey().flatMap(lambda (k,v):scoreDigenic(k,v)).takeOrdered(100, key=lambda (k,v1,v2,v3): -v1)", 
      "len(scores)"
     ], 
     "language": "python", 
     "outputs": [
      {
       "output_type": "pyout", 
       "prompt_number": 11, 
       "text": [
        "100"
       ]
      }
     ], 
     "prompt_number": 11
    }, 
    {
     "cell_type": "code", 
     "collapsed": true, 
     "input": [
      "scores=[\"TriosDigenic\",\"pairVariants\",scores]"
     ], 
     "language": "python", 
     "outputs": [], 
     "prompt_number": 12
    }, 
    {
     "cell_type": "code", 
     "collapsed": true, 
     "input": [
      "with open('pairVarDigenic.txt', 'w') as outfile:", 
      "    json.dump(scores, outfile)"
     ], 
     "language": "python", 
     "outputs": [], 
     "prompt_number": 13
    }, 
    {
     "cell_type": "code", 
     "collapsed": true, 
     "input": [
      "sc.stop()"
     ], 
     "language": "python", 
     "outputs": [], 
     "prompt_number": 1
    }, 
    {
     "cell_type": "code", 
     "collapsed": true, 
     "input": [], 
     "language": "python", 
     "outputs": []
    }
   ]
  }
 ]
}