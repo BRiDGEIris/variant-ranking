{
 "metadata": {
  "name": "compound"
 }, 
 "nbformat": 2, 
 "worksheets": [
  {
   "cells": [
    {
     "cell_type": "code", 
     "collapsed": true, 
     "input": [
      "from pyspark import SparkContext", 
      "sc = SparkContext(\"local[8]\", \"Simple App\")"
     ], 
     "language": "python", 
     "outputs": [], 
     "prompt_number": 2
    }, 
    {
     "cell_type": "code", 
     "collapsed": true, 
     "input": [
      "import json"
     ], 
     "language": "python", 
     "outputs": [], 
     "prompt_number": 14
    }, 
    {
     "cell_type": "code", 
     "collapsed": false, 
     "input": [
      "filename=\"varMat.txt\"", 
      "varMat = sc.textFile(filename,8)", 
      "varMat.count()"
     ], 
     "language": "python", 
     "outputs": [], 
     "prompt_number": 3
    }, 
    {
     "cell_type": "code", 
     "collapsed": false, 
     "input": [
      "varMat.take(2)"
     ], 
     "language": "python", 
     "outputs": [], 
     "prompt_number": 4
    }, 
    {
     "cell_type": "code", 
     "collapsed": true, 
     "input": [
      "def scoreCompound(k,variantList):", 
      "    variantList=list(variantList)", 
      "    result=[]", 
      "    if len(variantList)>1:", 
      "        for i in range(0,len(variantList)-1):", 
      "            (locus1,ref1,alt1,geno1)=variantList[i]", 
      "            for j in range(i+1,len(variantList)):", 
      "                (locus2,ref2,alt2,geno2)=variantList[j]", 
      "                (score,listTrios)=getScorePair(geno1,geno2)", 
      "                if score>0:", 
      "                    result.append(((k,locus1,ref1,alt1,locus2,ref2,alt2),(score,listTrios,geno1,geno2)))", 
      "        ", 
      "    return result"
     ], 
     "language": "python", 
     "outputs": [], 
     "prompt_number": 5
    }, 
    {
     "cell_type": "code", 
     "collapsed": true, 
     "input": [
      "def getScorePair(geno1,geno2):", 
      "    score=0", 
      "    listTrios=[]", 
      "    for i in range(0,11):", 
      "        scoreTrio=int(geno1[i*3]==\"1\" and geno2[i*3]==\"1\" and ", 
      "                        ((geno1[i*3+1]==\"1\" and geno2[i*3+1]==\"0\" and geno1[i*3+2]==\"0\" and geno2[i*3+2]==\"1\") or", 
      "                        (geno1[i*3+1]==\"0\" and geno2[i*3+1]==\"1\" and geno1[i*3+2]==\"1\" and geno2[i*3+2]==\"0\")))", 
      "        if scoreTrio>0:", 
      "            listTrios.append(i)", 
      "            score=score+scoreTrio", 
      "    return (score,listTrios)"
     ], 
     "language": "python", 
     "outputs": [], 
     "prompt_number": 6
    }, 
    {
     "cell_type": "code", 
     "collapsed": true, 
     "input": [
      "def splitValues(variantData):", 
      "    variantData=variantData.split(\" \")", 
      "    variantGene=variantData.pop(0)", 
      "    variantLocus=variantData.pop(0)", 
      "    variantRef=variantData.pop(0)", 
      "    variantAlt=variantData.pop(0)", 
      "    ", 
      "    return (variantGene,(variantLocus,variantRef,variantAlt,variantData))"
     ], 
     "language": "python", 
     "outputs": [], 
     "prompt_number": 7
    }, 
    {
     "cell_type": "code", 
     "collapsed": false, 
     "input": [
      "stage1=varMat.map(splitValues)", 
      "stage1.take(2)"
     ], 
     "language": "python", 
     "outputs": [], 
     "prompt_number": 8
    }, 
    {
     "cell_type": "code", 
     "collapsed": false, 
     "input": [
      "stage2=stage1.groupByKey()", 
      "stage2.count()", 
      "list(stage2.take(1)[0][1])"
     ], 
     "language": "python", 
     "outputs": [], 
     "prompt_number": 9
    }, 
    {
     "cell_type": "code", 
     "collapsed": false, 
     "input": [
      "stage3=stage2.flatMap(lambda (k,v):scoreCompound(k,v))", 
      "stage3.take(2)", 
      "stage3.count()"
     ], 
     "language": "python", 
     "outputs": [
      {
       "output_type": "pyout", 
       "prompt_number": 10, 
       "text": [
        "18161"
       ]
      }
     ], 
     "prompt_number": 10
    }, 
    {
     "cell_type": "code", 
     "collapsed": false, 
     "input": [
      "scores=stage3.takeOrdered(10, key=lambda (k,(v1,v2,v3,v4)): -v1)", 
      "print(scores)"
     ], 
     "language": "python", 
     "outputs": [
      {
       "output_type": "stream", 
       "stream": "stdout", 
       "text": [
        "[((u'\"ENSG00000243478\"', u'\"2:201613891\"', u'\"G\"', u'\"C\"', u'\"2:201629331\"', u'\"G\"', u'\"A\"'), (3, [0, 6, 8], [u'1', u'0', u'1', u'0', u'0', u'0', u'0', u'0', u'1', u'1', u'1', u'0', u'0', u'0', u'0', u'0', u'0', u'0', u'1', u'0', u'1', u'0', u'1', u'1', u'1', u'1', u'0', u'1', u'0', u'0', u'0', u'0', u'0'], [u'1', u'1', u'0', u'1', u'1', u'0', u'1', u'0', u'1', u'0', u'0', u'0', u'1', u'1', u'1', u'1', u'1', u'0', u'1', u'1', u'0', u'1', u'1', u'1', u'1', u'0', u'1', u'0', u'0', u'0', u'1', u'1', u'1'])), ((u'\"ENSG00000243478\"', u'\"2:201615316\"', u'\"C\"', u'\"T\"', u'\"2:201629331\"', u'\"G\"', u'\"A\"'), (3, [0, 6, 8], [u'1', u'0', u'1', u'0', u'0', u'0', u'0', u'0', u'0', u'1', u'1', u'0', u'0', u'0', u'0', u'0', u'0', u'0', u'1', u'0', u'1', u'0', u'0', u'0', u'1', u'1', u'0', u'1', u'0', u'0', u'0', u'0', u'0'], [u'1', u'1', u'0', u'1', u'1', u'0', u'1', u'0', u'1', u'0', u'0', u'0', u'1', u'1', u'1', u'1', u'1', u'0', u'1', u'1', u'0', u'1', u'1', u'1', u'1', u'0', u'1', u'0', u'0', u'0', u'1', u'1', u'1'])), ((u'\"ENSG00000243478\"', u'\"2:201619599\"', u'\"G\"', u'\"A\"', u'\"2:201629331\"', u'\"G\"', u'\"A\"'), (3, [0, 6, 8], [u'1', u'0', u'1', u'0', u'0', u'0', u'0', u'0', u'0', u'1', u'0', u'0', u'0', u'0', u'0', u'0', u'0', u'0', u'1', u'0', u'1', u'0', u'0', u'0', u'1', u'1', u'0', u'2', u'0', u'1', u'0', u'0', u'0'], [u'1', u'1', u'0', u'1', u'1', u'0', u'1', u'0', u'1', u'0', u'0', u'0', u'1', u'1', u'1', u'1', u'1', u'0', u'1', u'1', u'0', u'1', u'1', u'1', u'1', u'0', u'1', u'0', u'0', u'0', u'1', u'1', u'1'])), ((u'\"ENSG00000179709\"', u'\"19:56459458\"', u'\"C\"', u'\"T\"', u'\"19:56477710\"', u'\"T\"', u'\"C\"'), (3, [5, 8, 9], [u'0', u'0', u'0', u'0', u'0', u'0', u'0', u'1', u'1', u'0', u'0', u'0', u'0', u'0', u'0', u'1', u'1', u'0', u'1', u'0', u'0', u'0', u'0', u'0', u'1', u'0', u'1', u'1', u'0', u'1', u'0', u'0', u'0'], [u'2', u'1', u'2', u'0', u'1', u'1', u'1', u'2', u'1', u'0', u'2', u'1', u'2', u'2', u'2', u'1', u'0', u'1', u'2', u'1', u'1', u'1', u'1', u'1', u'1', u'1', u'0', u'1', u'1', u'0', u'2', u'1', u'1'])), ((u'\"ENSG00000179709\"', u'\"19:56466227\"', u'\"A\"', u'\"G\"', u'\"19:56477710\"', u'\"T\"', u'\"C\"'), (3, [5, 8, 9], [u'0', u'0', u'0', u'0', u'0', u'0', u'0', u'1', u'1', u'0', u'0', u'0', u'0', u'0', u'0', u'1', u'1', u'0', u'0', u'0', u'0', u'0', u'0', u'0', u'1', u'0', u'1', u'1', u'0', u'1', u'0', u'0', u'0'], [u'2', u'1', u'2', u'0', u'1', u'1', u'1', u'2', u'1', u'0', u'2', u'1', u'2', u'2', u'2', u'1', u'0', u'1', u'2', u'1', u'1', u'1', u'1', u'1', u'1', u'1', u'0', u'1', u'1', u'0', u'2', u'1', u'1'])), ((u'\"ENSG00000145949\"', u'\"6:2675271\"', u'\"C\"', u'\"T\"', u'\"6:2689217\"', u'\"A\"', u'\"C\"'), (3, [0, 3, 8], [u'1', u'0', u'1', u'0', u'0', u'1', u'1', u'1', u'1', u'1', u'0', u'1', u'0', u'0', u'0', u'1', u'1', u'2', u'1', u'1', u'2', u'1', u'1', u'0', u'1', u'0', u'1', u'1', u'2', u'1', u'0', u'0', u'0'], [u'1', u'1', u'0', u'0', u'1', u'0', u'0', u'0', u'0', u'1', u'1', u'0', u'0', u'0', u'0', u'0', u'0', u'0', u'1', u'2', u'1', u'1', u'1', u'2', u'1', u'1', u'0', u'1', u'0', u'1', u'1', u'1', u'1'])), ((u'\"ENSG00000154328\"', u'\"8:11643803\"', u'\"C\"', u'\"T\"', u'\"8:11644751\"', u'\"A\"', u'\"G\"'), (3, [4, 9, 10], [u'1', u'1', u'0', u'1', u'1', u'0', u'1', u'1', u'1', u'1', u'0', u'1', u'1', u'0', u'1', u'1', u'2', u'1', u'1', u'0', u'0', u'1', u'0', u'1', u'0', u'0', u'1', u'1', u'0', u'1', u'1', u'0', u'1'], [u'0', u'1', u'1', u'1', u'1', u'2', u'1', u'1', u'1', u'1', u'1', u'1', u'1', u'1', u'0', u'1', u'0', u'0', u'1', u'0', u'1', u'1', u'1', u'1', u'2', u'2', u'1', u'1', u'1', u'0', u'1', u'1', u'0'])), ((u'\"ENSG00000161904\"', u'\"6:33740025\"', u'\"C\"', u'\"T\"', u'\"6:33748937\"', u'\"G\"', u'\"GA\"'), (3, [0, 5, 10], [u'1', u'0', u'1', u'1', u'1', u'1', u'0', u'0', u'0', u'1', u'0', u'1', u'1', u'0', u'0', u'1', u'1', u'0', u'1', u'1', u'0', u'1', u'1', u'2', u'0', u'0', u'1', u'1', u'0', u'0', u'1', u'0', u'1'], [u'1', u'1', u'0', u'0', u'0', u'0', u'1', u'0', u'1', u'0', u'1', u'1', u'0', u'1', u'0', u'1', u'0', u'1', u'1', u'1', u'2', u'1', u'0', u'0', u'0', u'0', u'0', u'1', u'1', u'2', u'1', u'1', u'0'])), ((u'\"ENSG00000161904\"', u'\"6:33740025\"', u'\"C\"', u'\"T\"', u'\"6:33757014\"', u'\"G\"', u'\"T\"'), (3, [0, 5, 10], [u'1', u'0', u'1', u'1', u'1', u'1', u'0', u'0', u'0', u'1', u'0', u'1', u'1', u'0', u'0', u'1', u'1', u'0', u'1', u'1', u'0', u'1', u'1', u'2', u'0', u'0', u'1', u'1', u'0', u'0', u'1', u'0', u'1'], [u'1', u'1', u'0', u'0', u'0', u'0', u'0', u'0', u'0', u'0', u'1', u'1', u'0', u'1', u'0', u'1', u'0', u'1', u'1', u'1', u'0', u'1', u'0', u'0', u'0', u'0', u'0', u'1', u'1', u'2', u'1', u'1', u'0'])), ((u'\"ENSG00000161904\"', u'\"6:33748937\"', u'\"G\"', u'\"GA\"', u'\"6:33754592\"', u'\"G\"', u'\"A\"'), (3, [0, 5, 10], [u'1', u'1', u'0', u'0', u'0', u'0', u'1', u'0', u'1', u'0', u'1', u'1', u'0', u'1', u'0', u'1', u'0', u'1', u'1', u'1', u'2', u'1', u'0', u'0', u'0', u'0', u'0', u'1', u'1', u'2', u'1', u'1', u'0'], [u'1', u'0', u'1', u'1', u'1', u'1', u'0', u'0', u'0', u'1', u'0', u'1', u'1', u'0', u'0', u'1', u'1', u'0', u'1', u'1', u'0', u'1', u'1', u'2', u'0', u'0', u'1', u'1', u'0', u'0', u'1', u'0', u'1']))]"
       ]
      }
     ], 
     "prompt_number": 11
    }, 
    {
     "cell_type": "code", 
     "collapsed": true, 
     "input": [
      "scores=sc.textFile(filename,8).map(splitValues).groupByKey().flatMap(lambda (k,v):scoreCompound(k,v)).takeOrdered(10, key=lambda (k,(v1,v2,v3,v4)): -v1)"
     ], 
     "language": "python", 
     "outputs": [], 
     "prompt_number": 16
    }, 
    {
     "cell_type": "code", 
     "collapsed": true, 
     "input": [
      "scores=[\"TriosCompound\",\"pairVariants\",scores]"
     ], 
     "language": "python", 
     "outputs": [], 
     "prompt_number": 12
    }, 
    {
     "cell_type": "code", 
     "collapsed": false, 
     "input": [
      "with open('pairVarCompound.txt', 'w') as outfile:", 
      "    json.dump(scores, outfile)"
     ], 
     "language": "python", 
     "outputs": [], 
     "prompt_number": 15
    }, 
    {
     "cell_type": "code", 
     "collapsed": false, 
     "input": [
      "sc.stop()"
     ], 
     "language": "python", 
     "outputs": [], 
     "prompt_number": 1
    }, 
    {
     "cell_type": "code", 
     "collapsed": true, 
     "input": [], 
     "language": "python", 
     "outputs": []
    }
   ]
  }
 ]
}