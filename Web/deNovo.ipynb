{
 "metadata": {
  "name": "deNovo"
 }, 
 "nbformat": 2, 
 "worksheets": [
  {
   "cells": [
    {
     "cell_type": "code", 
     "collapsed": true, 
     "input": [
      "from pyspark import SparkContext", 
      "sc = SparkContext(\"local[8]\", \"Simple App\")"
     ], 
     "language": "python", 
     "outputs": [], 
     "prompt_number": 11
    }, 
    {
     "cell_type": "code", 
     "collapsed": true, 
     "input": [
      "import json"
     ], 
     "language": "python", 
     "outputs": [], 
     "prompt_number": 12
    }, 
    {
     "cell_type": "code", 
     "collapsed": false, 
     "input": [
      "filename=\"varMat.txt\"", 
      "varMat = sc.textFile(filename)", 
      "varMat.take(2)"
     ], 
     "language": "python", 
     "outputs": [
      {
       "output_type": "pyout", 
       "prompt_number": 22, 
       "text": [
        "[u'\"ENSG00000138131\" \"10:100013563\" \"C\" \"T\" 1 1 0 1 1 1 1 0 1 1 1 0 0 1 0 0 0 0 0 1 1 0 0 0 0 0 0 1 0 0 0 0 0',", 
        " u'\"ENSG00000138131\" \"10:100017453\" \"T\" \"G\" 0 0 0 0 0 0 0 0 0 0 0 0 0 0 0 1 0 1 0 0 0 0 0 0 0 0 0 0 2 1 2 1 1']"
       ]
      }
     ], 
     "prompt_number": 22
    }, 
    {
     "cell_type": "code", 
     "collapsed": false, 
     "input": [
      "varMat.count()"
     ], 
     "language": "python", 
     "outputs": [
      {
       "output_type": "pyout", 
       "prompt_number": 19, 
       "text": [
        "99521"
       ]
      }
     ], 
     "prompt_number": 19
    }, 
    {
     "cell_type": "code", 
     "collapsed": true, 
     "input": [
      "varMat=varMat.repartition(8)"
     ], 
     "language": "python", 
     "outputs": [], 
     "prompt_number": 14
    }, 
    {
     "cell_type": "code", 
     "collapsed": true, 
     "input": [
      "def scoreDeNovo(variantData):", 
      "    variantData=variantData.split(\" \")", 
      "    variantGene=variantData.pop(0)", 
      "    variantLocus=variantData.pop(0)", 
      "    variantRef=variantData.pop(0)", 
      "    variantAlt=variantData.pop(0)", 
      "    ", 
      "    score=0", 
      "    listTrios=[]", 
      "    for i in range(0,11):", 
      "        scoreTrio=int(variantData[(i*3)]==\"1\" and variantData[i*3+1]==\"0\" and variantData[i*3+2]==\"0\")", 
      "        if scoreTrio>0:", 
      "            listTrios.append(i)", 
      "            score=score+scoreTrio", 
      "            ", 
      "    return ((variantGene,variantLocus,variantRef,variantAlt),score,listTrios,variantData)"
     ], 
     "language": "python", 
     "outputs": [], 
     "prompt_number": 15
    }, 
    {
     "cell_type": "code", 
     "collapsed": false, 
     "input": [
      "scores=sc.textFile(filename,8).map(scoreDeNovo).filter(lambda (k,v1,v2,v3): v1>0).takeOrdered(10, key=lambda (k,v1,v2,v3): -v1)"
     ], 
     "language": "python", 
     "outputs": [], 
     "prompt_number": 27
    }, 
    {
     "cell_type": "code", 
     "collapsed": true, 
     "input": [
      "scores=[\"TriosDeNovo\",\"singleVariant\",scores]"
     ], 
     "language": "python", 
     "outputs": [], 
     "prompt_number": 24
    }, 
    {
     "cell_type": "code", 
     "collapsed": true, 
     "input": [
      "with open('singVarDeNovo.txt', 'w') as outfile:", 
      "    json.dump(scores, outfile)"
     ], 
     "language": "python", 
     "outputs": [], 
     "prompt_number": 18
    }, 
    {
     "cell_type": "code", 
     "collapsed": true, 
     "input": [
      "sc.stop()"
     ], 
     "language": "python", 
     "outputs": [], 
     "prompt_number": 10
    }, 
    {
     "cell_type": "code", 
     "collapsed": true, 
     "input": [], 
     "language": "python", 
     "outputs": []
    }
   ]
  }
 ]
}