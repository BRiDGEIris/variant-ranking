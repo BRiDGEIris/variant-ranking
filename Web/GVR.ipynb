{
 "cells": [
  {
   "cell_type": "code",
   "execution_count": 1,
   "metadata": {
    "collapsed": false
   },
   "outputs": [],
   "source": [
    "from pyspark import SparkContext, SparkConf\n",
    "from pyspark.sql import SQLContext\n",
    "import json\n",
    "import time\n",
    "import sys\n",
    "\n",
    "#analysisName=sys.argv[1]\n",
    "#indexControl=int(sys.argv[2])\n",
    "#scope=sys.argv[3]\n",
    "#scale=sys.argv[4]\n",
    "\n",
    "sqlCase=\"sample_id IN('ZH128472','ZH136914','ZH141272','ZH141483','ZH108301','ZH135914','ZH136155','ZH136587','ZH137071','ZH141455','ZH135614') AND snpeff_impact = 'HIGH'\"\n",
    "sqlControl=\"sample_id IN('ZH136913','ZH136915','ZH141389','ZH141390','ZH142274','ZH142276','ZH1428','ZH1429','ZH135907','ZH135909','ZH136156','ZH136157','ZH136586','ZH137070','ZH137072','ZH137703','ZH142270','ZH96867','ZH141454','ZH141456','ZH135613','ZH135615') AND snpeff_impact = 'HIGH'\"\n",
    "\n",
    "nPartitions=4\n",
    "conf = (SparkConf()\n",
    "         .setMaster(\"local[\"+str(nPartitions)+\"]\")\n",
    "         .setAppName(\"Ranking\")\n",
    "#         .set(\"spark.executor.memory\", \"5g\")\n",
    "#         .set(\"spark.driver.memory\", \"5g\")\n",
    "#         .set(\"spark.python.worker.memory\", \"5g\")\n",
    "       )\n",
    "sc.stop()\n",
    "sc = SparkContext(conf=conf)\n",
    "sqlContext = SQLContext(sc)\n",
    "sqlContext.sql(\"SET spark.sql.parquet.binaryAsString=true\")\n",
    "\n",
    "parquetFile = sqlContext.read.parquet(\"/user/hive/warehouse/gvr4.db/variantsulb\")\n",
    "parquetFile.registerTempTable(\"parquetFile\");"
   ]
  },
  {
   "cell_type": "code",
   "execution_count": 2,
   "metadata": {
    "collapsed": true
   },
   "outputs": [],
   "source": [
    "analysisName=\"neurodev_control_digenic\"\n",
    "group1name=\"ulb_control_damaging\"\n",
    "group2name=\"ulb_neurodev_damaging\"\n",
    "indexControl=5\n",
    "scope=\"digenic\"\n",
    "scale=\"gene\"\n",
    "nPartitions=4"
   ]
  },
  {
   "cell_type": "code",
   "execution_count": 3,
   "metadata": {
    "collapsed": false
   },
   "outputs": [],
   "source": [
    "def splitByVariantID(variantData):\n",
    "    ID=variantData[1]+\":\"+str(variantData[2])+\":\"+variantData[3]+\":\"+variantData[4]\n",
    "    return (ID,(variantData[5],variantData[0],variantData[6]))\n",
    "\n",
    "def buildVariantVector(ID,variantData,samplesID):\n",
    "    variantData=list(variantData)\n",
    "    result=[0]*len(samplesID)\n",
    "    \n",
    "    #Get sampleID/Genotype for each variant\n",
    "    sID=[]\n",
    "    geno=[]\n",
    "    for i in range(0,len(variantData)):\n",
    "        if variantData[i][2]==\"Homozygous\":\n",
    "            geno.append(2)\n",
    "        else:\n",
    "            geno.append(1)\n",
    "        sID.append(variantData[i][1])\n",
    "    \n",
    "    #Sort according to sampleID\n",
    "    sIDsorted=[v for v in sorted(enumerate(sID), key=lambda x:x[1])]\n",
    "    sID=[v[1] for v in sIDsorted]\n",
    "    geno=[geno[v[0]] for v in sIDsorted]                             \n",
    "    \n",
    "    curID=0\n",
    "    for i in range(0,len(samplesID)):\n",
    "        if sID[curID]==samplesID[i]:\n",
    "            result[i]=geno[curID]\n",
    "            curID=curID+1\n",
    "        if curID==len(sID):\n",
    "            break;\n",
    "    \n",
    "    return ((ID,variantData[0][0]),result)\n",
    "\n"
   ]
  },
  {
   "cell_type": "code",
   "execution_count": 4,
   "metadata": {
    "collapsed": true
   },
   "outputs": [],
   "source": [
    "def splitValues(variantData):    \n",
    "    return (variantData[0][1],(variantData[0][0],variantData[1]))\n",
    "\n",
    "def makePairParts(k,v,nbPart):\n",
    "    result=[]\n",
    "    for i in range(0,nbPart):\n",
    "        result.append(((k,i),v))\n",
    "        \n",
    "    return [(str(sorted([k,i])),(v)) for i in range(0,nbPart)]\n",
    "\n",
    "def f(splitIndex ,v): \n",
    "    return [(splitIndex,list(v))]"
   ]
  },
  {
   "cell_type": "code",
   "execution_count": 5,
   "metadata": {
    "collapsed": true
   },
   "outputs": [],
   "source": [
    "def scoreVariantUnivariate(k,variantData):\n",
    "    variantData=list(variantData)\n",
    "    \n",
    "    score=0\n",
    "    sumControl=0\n",
    "    \n",
    "    sumCase=sum([int(x>0) for x in variantData[0]])\n",
    "    sumControl=sum([int(x>0) for x in variantData[1]])\n",
    "    \n",
    "    score=sumCase#-sumControl\n",
    "    if sumControl>0:\n",
    "        score=0\n",
    "        \n",
    "    if score>0:\n",
    "        return (k,(score,(sumCase,sumControl),variantData))"
   ]
  },
  {
   "cell_type": "code",
   "execution_count": 6,
   "metadata": {
    "collapsed": true
   },
   "outputs": [],
   "source": [
    "def scoreGeneUnivariate(k,variantList):\n",
    "    variantList=list(variantList)\n",
    "    result=[k,(0,0,0)]\n",
    "    sumCase=0\n",
    "    sumControl=0\n",
    "    score=0\n",
    "    genosumcase=[]\n",
    "    genosumcontrol=[]\n",
    "    if len(variantList)>0:\n",
    "        for i in range(0,len(variantList)):\n",
    "            (locus,geno)=variantList[i]\n",
    "            if genosumcase==[]:\n",
    "                genosumcase=[int(x) for x in geno[0]]\n",
    "                genosumcontrol=[int(x) for x in geno[1]]\n",
    "            else:\n",
    "                genosumcase=[int(x)+int(y) for x,y in zip(genosumcase,geno[0])]\n",
    "                genosumcontrol=[int(x)+int(y) for x,y in zip(genosumcontrol,geno[1])]\n",
    "                \n",
    "        sumCase=sum([int(x>0) for x in genosumcase])\n",
    "        sumControl=sum([int(x>0) for x in genosumcontrol])\n",
    "        score=sumCase-sumControl\n",
    "\n",
    "    if score>0:\n",
    "        result=[k,(score,sumCase,sumControl)]\n",
    "        return result"
   ]
  },
  {
   "cell_type": "code",
   "execution_count": 7,
   "metadata": {
    "collapsed": false
   },
   "outputs": [],
   "source": [
    "def scoreDigenicGene(k,variantLists):\n",
    "    variantLists=list(variantLists)\n",
    "    result=[]\n",
    "    geno1sumcase=[]\n",
    "    geno1sumcontrol=[]\n",
    "    geno2sumcase=[]\n",
    "    geno2sumcontrol=[]\n",
    "    score=0\n",
    "    gene1=\"\"\n",
    "    gene2=\"\"\n",
    "    sumCase=-1\n",
    "    sumControl=-1\n",
    "    if len(variantLists)==2:\n",
    "        (genes,variantList1)=list(variantLists[0])\n",
    "        (genes,variantList2)=list(variantLists[1])\n",
    "        gene1=genes[0]\n",
    "        gene2=genes[1]\n",
    "        variantList1=list(variantList1)\n",
    "        variantList2=list(variantList2)\n",
    "        for i in range(0,len(variantList1)):\n",
    "            (locus1,geno1)=variantList1[i]\n",
    "            if geno1sumcase==[]:\n",
    "                geno1sumcase=[int(x) for x in geno1[0]]\n",
    "                geno1sumcontrol=[int(x) for x in geno1[1]]\n",
    "            else:\n",
    "                geno1sumcase=[int(x)+int(y) for x,y in zip(geno1sumcase,geno1[0])]\n",
    "                geno1sumcontrol=[int(x)+int(y) for x,y in zip(geno1sumcontrol,geno1[1])]\n",
    "                \n",
    "        for i in range(0,len(variantList2)):\n",
    "            (locus2,geno2)=variantList2[i]\n",
    "            if geno2sumcase==[]:\n",
    "                geno2sumcase=[int(x) for x in geno2[0]]\n",
    "                geno2sumcontrol=[int(x) for x in geno2[1]]\n",
    "            else:\n",
    "                geno2sumcase=[int(x)+int(y) for x,y in zip(geno2sumcase,geno2[0])]\n",
    "                geno2sumcontrol=[int(x)+int(y) for x,y in zip(geno2sumcontrol,geno2[1])]\n",
    "                \n",
    "        genosumcase=[x+y for x,y in zip(geno1sumcase,geno2sumcase)]\n",
    "        genosumcontrol=[x+y for x,y in zip(geno1sumcontrol,geno2sumcontrol)]\n",
    "        sumCase=sum([int(x>0) for x in genosumcase])\n",
    "        sumControl=sum([int(x>0) for x in genosumcontrol])\n",
    "        score=sumCase-sumControl\n",
    "        #if sumControl>0:\n",
    "        #    score=0\n",
    "        \n",
    "    if score>0:\n",
    "        return (k,((gene1,gene2),score,sumCase,sumControl))\n",
    "\n",
    "def getGene(variantData):\n",
    "    variantGene=variantData[0][1]\n",
    "    \n",
    "    return (variantGene)\n",
    "\n",
    "def createPairsGenes(k,v,genes):\n",
    "    return [(str(sorted([k,gene])),(sorted([k,gene]),v)) for gene in genes]\n",
    "\n",
    "def fillMissing(k,v):\n",
    "    v=list(v)\n",
    "    if v[1] is None:\n",
    "        v[1]=[0]*len(sample_id_control_b.value)\n",
    "        \n",
    "    return (k,v)"
   ]
  },
  {
   "cell_type": "code",
   "execution_count": 8,
   "metadata": {
    "collapsed": false
   },
   "outputs": [],
   "source": [
    "\n",
    "\n",
    "RDDcase = sqlContext.sql(\"SELECT sample_id,chr,position,reference,alternative,gene_symbol,zygosity FROM parquetFile where \"+sqlCase)\n",
    "RDDcontrol= sqlContext.sql(\"SELECT sample_id,chr,position,reference,alternative,gene_symbol,zygosity FROM parquetFile where \"+sqlControl)\n",
    "\n",
    "sample_id_case=sorted(RDDcase.map(lambda v:v[0]).distinct().collect())\n",
    "sample_id_control=sorted(RDDcontrol.map(lambda v:v[0]).distinct().collect())\n",
    "\n",
    "sample_id_case_b = sc.broadcast(sample_id_case)\n",
    "sample_id_control_b = sc.broadcast(sample_id_control)\n",
    "\n",
    "genoMatCase=RDDcase.map(splitByVariantID).groupByKey()\n",
    "genoMatCase=genoMatCase.map(lambda (k,v):buildVariantVector(k,v,sample_id_case))\n",
    "\n",
    "genoMatControl=RDDcontrol.map(splitByVariantID).groupByKey()\n",
    "genoMatControl=genoMatControl.map(lambda (k,v):buildVariantVector(k,v,sample_id_control))\n",
    "\n",
    "genoMat=genoMatCase.leftOuterJoin(genoMatControl).map(lambda (k,v): fillMissing(k,v))"
   ]
  },
  {
   "cell_type": "code",
   "execution_count": 9,
   "metadata": {
    "collapsed": false
   },
   "outputs": [
    {
     "data": {
      "text/plain": [
       "1946"
      ]
     },
     "execution_count": 9,
     "metadata": {},
     "output_type": "execute_result"
    }
   ],
   "source": [
    "genoMat.count()"
   ]
  },
  {
   "cell_type": "code",
   "execution_count": 20,
   "metadata": {
    "collapsed": true
   },
   "outputs": [],
   "source": [
    "genoMat2=sc.parallelize(genoMat.take(1000))"
   ]
  },
  {
   "cell_type": "code",
   "execution_count": 23,
   "metadata": {
    "collapsed": false
   },
   "outputs": [
    {
     "name": "stdout",
     "output_type": "stream",
     "text": [
      "32.8956751823\n"
     ]
    }
   ],
   "source": [
    "start_time = time.time()\n",
    "\n",
    "\n",
    "if scope=='monogenic':\n",
    "    if scale=='variant':\n",
    "        scores=genoMat.map(lambda (k,v):scoreVariantUnivariate(k,v)).filter(lambda x:x is not None).takeOrdered(1000, key=lambda (k,(v1,v2,v3)): -v1)\n",
    "\n",
    "    if scale=='gene':\n",
    "        scores=genoMat.map(splitValues).groupByKey().map(lambda (k,v):scoreGeneUnivariate(k,v)).filter(lambda x:x is not None).takeOrdered(1000, key=lambda (k,(v1,v2,v3)): -v1)\n",
    "    \n",
    "if scope=='digenic':\n",
    "    genes=genoMat.map(getGene).distinct().takeOrdered(10000)#.flatMap(lambda (k,v):scoreCompound(k,v)).takeOrdered(100000, key=lambda (k,v1,v2,v3): -v1)\n",
    "    scores=genoMat.map(splitValues).groupByKey().flatMap(lambda (k,v):createPairsGenes(k,v,genes)).groupByKey().map(lambda (k,v):scoreDigenicGene(k,v)).filter(lambda x:x is not None).takeOrdered(1000, key=lambda (k,(genes,v1,v2,v3)): -v1)\n",
    "\n",
    "end_time=time.time()\n",
    "runtime=end_time - start_time\n",
    "print(runtime)\n"
   ]
  },
  {
   "cell_type": "code",
   "execution_count": 24,
   "metadata": {
    "collapsed": false
   },
   "outputs": [
    {
     "data": {
      "text/plain": [
       "1326"
      ]
     },
     "execution_count": 24,
     "metadata": {},
     "output_type": "execute_result"
    }
   ],
   "source": [
    "len(genes)"
   ]
  },
  {
   "cell_type": "code",
   "execution_count": 25,
   "metadata": {
    "collapsed": false
   },
   "outputs": [
    {
     "data": {
      "text/plain": [
       "[u'ZH135613',\n",
       " u'ZH135615',\n",
       " u'ZH135907',\n",
       " u'ZH135909',\n",
       " u'ZH136156',\n",
       " u'ZH136157',\n",
       " u'ZH136586',\n",
       " u'ZH136913',\n",
       " u'ZH136915',\n",
       " u'ZH137070',\n",
       " u'ZH137072',\n",
       " u'ZH137703',\n",
       " u'ZH141389',\n",
       " u'ZH141390',\n",
       " u'ZH141454',\n",
       " u'ZH141456',\n",
       " u'ZH142270',\n",
       " u'ZH142274',\n",
       " u'ZH142276',\n",
       " u'ZH1428',\n",
       " u'ZH1429',\n",
       " u'ZH96867']"
      ]
     },
     "execution_count": 25,
     "metadata": {},
     "output_type": "execute_result"
    }
   ],
   "source": [
    "sample_id_control"
   ]
  },
  {
   "cell_type": "code",
   "execution_count": 26,
   "metadata": {
    "collapsed": true
   },
   "outputs": [],
   "source": [
    "scores=[analysisName,scale,scope,start_time,end_time,runtime,scores,sample_id_case,sample_id_control,group1name,group2name]\n",
    "\n",
    "with open(\"analyses/\"+analysisName+'.txt', 'w') as outfile:\n",
    "    json.dump(scores, outfile)\n",
    "    "
   ]
  },
  {
   "cell_type": "code",
   "execution_count": null,
   "metadata": {
    "collapsed": true
   },
   "outputs": [],
   "source": [
    "sc.stop()"
   ]
  }
 ],
 "metadata": {
  "kernelspec": {
   "display_name": "Python 2",
   "language": "python",
   "name": "python2"
  },
  "language_info": {
   "codemirror_mode": {
    "name": "ipython",
    "version": 2
   },
   "file_extension": ".py",
   "mimetype": "text/x-python",
   "name": "python",
   "nbconvert_exporter": "python",
   "pygments_lexer": "ipython2",
   "version": "2.7.10"
  }
 },
 "nbformat": 4,
 "nbformat_minor": 0
}
