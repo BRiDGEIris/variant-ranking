{
 "cells": [
  {
   "cell_type": "code",
   "execution_count": 2,
   "metadata": {
    "collapsed": true
   },
   "outputs": [],
   "source": [
    "#from pyspark import SparkContext, SparkConf\n",
    "#import json\n",
    "#import time\n",
    "#import sys"
   ]
  },
  {
   "cell_type": "code",
   "execution_count": 11,
   "metadata": {
    "collapsed": false
   },
   "outputs": [],
   "source": [
    "from pyspark import SparkContext, SparkConf\n",
    "import json\n",
    "import time\n",
    "import sys\n",
    "\n",
    "analysisName=sys.argv[1]\n",
    "indexControl=int(sys.argv[2])\n",
    "scope=sys.argv[3]\n",
    "scale=sys.argv[4]\n",
    "\n",
    "filename=\"analyses/\"+analysisName+\"_genoMat.txt\"\n",
    "\n",
    "nPartitions=4\n",
    "conf = (SparkConf()\n",
    "         .setMaster(\"local[\"+str(nPartitions)+\"]\")\n",
    "         .setAppName(\"Ranking\")\n",
    "#         .set(\"spark.executor.memory\", \"5g\")\n",
    "#         .set(\"spark.driver.memory\", \"5g\")\n",
    "#         .set(\"spark.python.worker.memory\", \"5g\")\n",
    "       )\n",
    "sc = SparkContext(conf=conf)\n",
    "\n"
   ]
  },
  {
   "cell_type": "code",
   "execution_count": 18,
   "metadata": {
    "collapsed": true
   },
   "outputs": [],
   "source": [
    "#analysisName=\"Control_vs_Transplant_Rare\"\n",
    "#indexControl=27\n",
    "#scope=\"monogenic\"\n",
    "#scale=\"variant\"\n",
    "#filename=\"analyses/\"+analysisName+\"_genoMat.txt\"\n",
    "#nPartitions=4"
   ]
  },
  {
   "cell_type": "code",
   "execution_count": 19,
   "metadata": {
    "collapsed": true
   },
   "outputs": [],
   "source": [
    "def splitValues(variantData):\n",
    "    variantData=variantData.split(\" \")\n",
    "    variantGene=variantData.pop(0)\n",
    "    variantLocus=variantData.pop(0)\n",
    "    \n",
    "    return (variantGene,(variantLocus,variantData))\n",
    "\n",
    "def makePairParts(k,v,nbPart):\n",
    "    result=[]\n",
    "    for i in range(0,nbPart):\n",
    "        result.append(((k,i),v))\n",
    "        \n",
    "    return [(str(sorted([k,i])),(v)) for i in range(0,nbPart)]\n",
    "\n",
    "def f(splitIndex ,v): \n",
    "    return [(splitIndex,list(v))]"
   ]
  },
  {
   "cell_type": "code",
   "execution_count": 20,
   "metadata": {
    "collapsed": true
   },
   "outputs": [],
   "source": [
    "def scoreVariantUnivariate(variantData):\n",
    "    variantData=variantData.split(\" \")\n",
    "    variantGene=variantData.pop(0)\n",
    "    variantLocus=variantData.pop(0)\n",
    "    \n",
    "    score=0\n",
    "    \n",
    "    sumCase=sum([int(int(x)>0) for x in variantData[0:indexControl]])\n",
    "    sumControl=sum([int(int(x)>0) for x in variantData[indexControl:len(variantData)]])\n",
    "    score=sumCase-sumControl\n",
    "    #if sumControl>0:\n",
    "    #    score=0\n",
    "        \n",
    "    return ((variantGene,variantLocus),(score,sumCase,sumControl))"
   ]
  },
  {
   "cell_type": "code",
   "execution_count": 21,
   "metadata": {
    "collapsed": true
   },
   "outputs": [],
   "source": [
    "def scoreGeneUnivariate(k,variantList):\n",
    "    variantList=list(variantList)\n",
    "    result=[k,(0,0,0)]\n",
    "    sumCase=0\n",
    "    sumControl=0\n",
    "    score=0\n",
    "    genosum=[]\n",
    "    if len(variantList)>0:\n",
    "        for i in range(0,len(variantList)):\n",
    "            (locus,geno)=variantList[i]\n",
    "            if genosum==[]:\n",
    "                genosum=[int(x) for x in geno]\n",
    "            else:\n",
    "                genosum=[int(x)+int(y) for x,y in zip(genosum,geno)]\n",
    "                \n",
    "        sumCase=sum([int(x>0) for x in genosum[0:indexControl]])\n",
    "        sumControl=sum([int(x>0) for x in genosum[indexControl:len(genosum)]])\n",
    "        score=sumCase-sumControl\n",
    "        #if sumControl>0:\n",
    "        #    score=0\n",
    "\n",
    "    #if score>0:\n",
    "    result=[k,(score,sumCase,sumControl)]\n",
    "    \n",
    "    return result"
   ]
  },
  {
   "cell_type": "code",
   "execution_count": 22,
   "metadata": {
    "collapsed": true
   },
   "outputs": [],
   "source": [
    "def scoreDigenicGene(k,variantLists):\n",
    "    variantLists=list(variantLists)\n",
    "    result=[]\n",
    "    geno1sum=[]\n",
    "    geno2sum=[]\n",
    "    score=0\n",
    "    gene1=\"\"\n",
    "    gene2=\"\"\n",
    "    sumCase=-1\n",
    "    sumControl=-1\n",
    "    if len(variantLists)==2:\n",
    "        (genes,variantList1)=list(variantLists[0])\n",
    "        (genes,variantList2)=list(variantLists[1])\n",
    "        gene1=genes[0]\n",
    "        gene2=genes[1]\n",
    "        variantList1=list(variantList1)\n",
    "        variantList2=list(variantList2)\n",
    "        for i in range(0,len(variantList1)):\n",
    "            (locus1,geno1)=variantList1[i]\n",
    "            if geno1sum==[]:\n",
    "                geno1sum=[int(x) for x in geno1]\n",
    "            else:\n",
    "                geno1sum=[int(x)+int(y) for x,y in zip(geno1sum,geno1)]\n",
    "                \n",
    "        for i in range(0,len(variantList2)):\n",
    "            (locus2,geno2)=variantList2[i]\n",
    "            if geno2sum==[]:\n",
    "                geno2sum=[int(x) for x in geno2]\n",
    "            else:\n",
    "                geno2sum=[int(x)+int(y) for x,y in zip(geno2sum,geno2)]\n",
    "                \n",
    "        genosum=[x+y for x,y in zip(geno1sum,geno2sum)]\n",
    "        sumCase=sum([int(x>0) for x in genosum[0:indexControl]])\n",
    "        sumControl=sum([int(x>0) for x in genosum[indexControl:len(genosum)]])\n",
    "        score=sumCase-sumControl\n",
    "        #if sumControl>0:\n",
    "        #    score=0\n",
    "        \n",
    "    return (k,((gene1,gene2),score,sumCase,sumControl))\n",
    "\n",
    "def getGene(variantData):\n",
    "    variantData=variantData.split(\" \")\n",
    "    variantGene=variantData.pop(0)\n",
    "    \n",
    "    return (variantGene)\n",
    "\n",
    "def createPairsGenes(k,v,genes):\n",
    "    return [(str(sorted([k,gene])),(sorted([k,gene]),v)) for gene in genes]\n"
   ]
  },
  {
   "cell_type": "code",
   "execution_count": 25,
   "metadata": {
    "collapsed": false
   },
   "outputs": [
    {
     "name": "stdout",
     "output_type": "stream",
     "text": [
      "1.14669108391\n"
     ]
    }
   ],
   "source": [
    "start_time = time.time()\n",
    "\n",
    "\n",
    "if scope=='monogenic':\n",
    "    if scale=='variant':\n",
    "        scores=sc.textFile(filename).repartition(nPartitions).map(scoreVariantUnivariate).filter(lambda (k,(v1,v2,v3)): v1>=0).takeOrdered(1000, key=lambda (k,(v1,v2,v3)): -v1)\n",
    "\n",
    "    if scale=='gene':\n",
    "        scores=sc.textFile(filename,nPartitions).map(splitValues).groupByKey().map(lambda (k,v):scoreGeneUnivariate(k,v)).filter(lambda (k,(v1,v2,v3)): v1>0).takeOrdered(1000, key=lambda (k,(v1,v2,v3)): -v1)\n",
    "    \n",
    "if scope=='digenic':\n",
    "    genes=sc.textFile(filename,nPartitions).map(getGene).distinct().takeOrdered(1000000)#.flatMap(lambda (k,v):scoreCompound(k,v)).takeOrdered(100000, key=lambda (k,v1,v2,v3): -v1)\n",
    "    scores=sc.textFile(filename,nPartitions).map(splitValues).groupByKey().flatMap(lambda (k,v):createPairsGenes(k,v,genes)).groupByKey().map(lambda (k,v):scoreDigenicGene(k,v)).takeOrdered(1000, key=lambda (k,(genes,v1,v2,v3)): -v1)\n",
    "\n",
    "end_time=time.time()\n",
    "runtime=end_time - start_time\n",
    "print(runtime)\n"
   ]
  },
  {
   "cell_type": "code",
   "execution_count": 26,
   "metadata": {
    "collapsed": false
   },
   "outputs": [
    {
     "data": {
      "text/plain": [
       "[((u'ENSG00000000419', u'20:49551780:T:TA'), 0, 27, 22),\n",
       " ((u'ENSG00000000971', u'1:196642969:C:CTT'), 0, 27, 22),\n",
       " ((u'ENSG00000001461', u'1:24782623:T:C'), 0, 27, 22),\n",
       " ((u'ENSG00000001617', u'3:50211220:C:T'), 0, 27, 22),\n",
       " ((u'ENSG00000001626', u'7:117188850:G:T'), 0, 27, 22),\n",
       " ((u'ENSG00000001626', u'7:117250575:G:C'), 0, 27, 22),\n",
       " ((u'ENSG00000001629', u'7:91974351:A:G'), 0, 27, 22),\n",
       " ((u'ENSG00000001631', u'7:91855891:T:C'), 0, 27, 22),\n",
       " ((u'ENSG00000002726', u'7:150554629:G:A'), 0, 27, 22),\n",
       " ((u'ENSG00000002746', u'7:43351391:G:A'), 0, 27, 22)]"
      ]
     },
     "execution_count": 26,
     "metadata": {},
     "output_type": "execute_result"
    }
   ],
   "source": [
    "#genes=sc.textFile(filename,nPartitions).map(getGene).distinct().takeOrdered(1000000)\n",
    "#scores[0:10]"
   ]
  },
  {
   "cell_type": "code",
   "execution_count": 17,
   "metadata": {
    "collapsed": true
   },
   "outputs": [],
   "source": [
    "scores=[analysisName,scale,scope,start_time,end_time,runtime,scores]\n",
    "\n",
    "with open(\"analyses/\"+analysisName+'.txt', 'w') as outfile:\n",
    "    json.dump(scores, outfile)\n",
    "    "
   ]
  },
  {
   "cell_type": "code",
   "execution_count": null,
   "metadata": {
    "collapsed": true
   },
   "outputs": [],
   "source": [
    "sc.stop()"
   ]
  }
 ],
 "metadata": {
  "kernelspec": {
   "display_name": "Python 2",
   "language": "python",
   "name": "python2"
  },
  "language_info": {
   "codemirror_mode": {
    "name": "ipython",
    "version": 2
   },
   "file_extension": ".py",
   "mimetype": "text/x-python",
   "name": "python",
   "nbconvert_exporter": "python",
   "pygments_lexer": "ipython2",
   "version": "2.7.10"
  }
 },
 "nbformat": 4,
 "nbformat_minor": 0
}
