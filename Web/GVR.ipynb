{
 "cells": [
  {
   "cell_type": "code",
   "execution_count": 2,
   "metadata": {
    "collapsed": false
   },
   "outputs": [
    {
     "ename": "Exception",
     "evalue": "(\"You must build Spark with Hive. Export 'SPARK_HIVE=true' and run build/sbt assembly\", Py4JJavaError(u'An error occurred while calling None.org.apache.spark.sql.hive.HiveContext.\\n', JavaObject id=o41))",
     "output_type": "error",
     "traceback": [
      "\u001b[0;31m---------------------------------------------------------------------------\u001b[0m",
      "\u001b[0;31mException\u001b[0m                                 Traceback (most recent call last)",
      "\u001b[0;32m<ipython-input-2-c5fba79ec67f>\u001b[0m in \u001b[0;36m<module>\u001b[0;34m()\u001b[0m\n\u001b[1;32m     28\u001b[0m \u001b[0;31m#sqlContext = SQLContext(sc)\u001b[0m\u001b[0;34m\u001b[0m\u001b[0;34m\u001b[0m\u001b[0m\n\u001b[1;32m     29\u001b[0m \u001b[0msqlContext\u001b[0m \u001b[0;34m=\u001b[0m \u001b[0mHiveContext\u001b[0m\u001b[0;34m(\u001b[0m\u001b[0msc\u001b[0m\u001b[0;34m)\u001b[0m\u001b[0;34m\u001b[0m\u001b[0m\n\u001b[0;32m---> 30\u001b[0;31m \u001b[0msqlContext\u001b[0m\u001b[0;34m.\u001b[0m\u001b[0msql\u001b[0m\u001b[0;34m(\u001b[0m\u001b[0;34m\"SET spark.sql.parquet.binaryAsString=true\"\u001b[0m\u001b[0;34m)\u001b[0m\u001b[0;34m\u001b[0m\u001b[0m\n\u001b[0m\u001b[1;32m     31\u001b[0m \u001b[0;34m\u001b[0m\u001b[0m\n\u001b[1;32m     32\u001b[0m \u001b[0;31m#parquetFile = sqlContext.read.parquet(\"/user/hive/warehouse/gvr4.db/variantsulb\")\u001b[0m\u001b[0;34m\u001b[0m\u001b[0;34m\u001b[0m\u001b[0m\n",
      "\u001b[0;32m/Users/yalb/spark/python/pyspark/sql/context.pyc\u001b[0m in \u001b[0;36msql\u001b[0;34m(self, sqlQuery)\u001b[0m\n\u001b[1;32m    550\u001b[0m         \u001b[0;34m[\u001b[0m\u001b[0mRow\u001b[0m\u001b[0;34m(\u001b[0m\u001b[0mf1\u001b[0m\u001b[0;34m=\u001b[0m\u001b[0;36m1\u001b[0m\u001b[0;34m,\u001b[0m \u001b[0mf2\u001b[0m\u001b[0;34m=\u001b[0m\u001b[0;34mu'row1'\u001b[0m\u001b[0;34m)\u001b[0m\u001b[0;34m,\u001b[0m \u001b[0mRow\u001b[0m\u001b[0;34m(\u001b[0m\u001b[0mf1\u001b[0m\u001b[0;34m=\u001b[0m\u001b[0;36m2\u001b[0m\u001b[0;34m,\u001b[0m \u001b[0mf2\u001b[0m\u001b[0;34m=\u001b[0m\u001b[0;34mu'row2'\u001b[0m\u001b[0;34m)\u001b[0m\u001b[0;34m,\u001b[0m \u001b[0mRow\u001b[0m\u001b[0;34m(\u001b[0m\u001b[0mf1\u001b[0m\u001b[0;34m=\u001b[0m\u001b[0;36m3\u001b[0m\u001b[0;34m,\u001b[0m \u001b[0mf2\u001b[0m\u001b[0;34m=\u001b[0m\u001b[0;34mu'row3'\u001b[0m\u001b[0;34m)\u001b[0m\u001b[0;34m]\u001b[0m\u001b[0;34m\u001b[0m\u001b[0m\n\u001b[1;32m    551\u001b[0m         \"\"\"\n\u001b[0;32m--> 552\u001b[0;31m         \u001b[0;32mreturn\u001b[0m \u001b[0mDataFrame\u001b[0m\u001b[0;34m(\u001b[0m\u001b[0mself\u001b[0m\u001b[0;34m.\u001b[0m\u001b[0m_ssql_ctx\u001b[0m\u001b[0;34m.\u001b[0m\u001b[0msql\u001b[0m\u001b[0;34m(\u001b[0m\u001b[0msqlQuery\u001b[0m\u001b[0;34m)\u001b[0m\u001b[0;34m,\u001b[0m \u001b[0mself\u001b[0m\u001b[0;34m)\u001b[0m\u001b[0;34m\u001b[0m\u001b[0m\n\u001b[0m\u001b[1;32m    553\u001b[0m \u001b[0;34m\u001b[0m\u001b[0m\n\u001b[1;32m    554\u001b[0m     \u001b[0;34m@\u001b[0m\u001b[0msince\u001b[0m\u001b[0;34m(\u001b[0m\u001b[0;36m1.0\u001b[0m\u001b[0;34m)\u001b[0m\u001b[0;34m\u001b[0m\u001b[0m\n",
      "\u001b[0;32m/Users/yalb/spark/python/pyspark/sql/context.pyc\u001b[0m in \u001b[0;36m_ssql_ctx\u001b[0;34m(self)\u001b[0m\n\u001b[1;32m    658\u001b[0m             raise Exception(\"You must build Spark with Hive. \"\n\u001b[1;32m    659\u001b[0m                             \u001b[0;34m\"Export 'SPARK_HIVE=true' and run \"\u001b[0m\u001b[0;34m\u001b[0m\u001b[0m\n\u001b[0;32m--> 660\u001b[0;31m                             \"build/sbt assembly\", e)\n\u001b[0m\u001b[1;32m    661\u001b[0m \u001b[0;34m\u001b[0m\u001b[0m\n\u001b[1;32m    662\u001b[0m     \u001b[0;32mdef\u001b[0m \u001b[0m_get_hive_ctx\u001b[0m\u001b[0;34m(\u001b[0m\u001b[0mself\u001b[0m\u001b[0;34m)\u001b[0m\u001b[0;34m:\u001b[0m\u001b[0;34m\u001b[0m\u001b[0m\n",
      "\u001b[0;31mException\u001b[0m: (\"You must build Spark with Hive. Export 'SPARK_HIVE=true' and run build/sbt assembly\", Py4JJavaError(u'An error occurred while calling None.org.apache.spark.sql.hive.HiveContext.\\n', JavaObject id=o41))"
     ]
    }
   ],
   "source": [
    "from pyspark import SparkContext, SparkConf\n",
    "from pyspark.sql import SQLContext\n",
    "from pyspark.sql import HiveContext\n",
    "import json\n",
    "import time\n",
    "import sys\n",
    "\n",
    "content = [line.rstrip() for line in open('jobsArguments.conf')]\n",
    "\n",
    "analysisName=content[0]\n",
    "scope=content[1]\n",
    "scale=content[2]\n",
    "sqlControl=content[3]\n",
    "sqlCase=content[4]\n",
    "group1name=content[5]\n",
    "group2name=content[6]\n",
    "\n",
    "nPartitions=10\n",
    "conf = (SparkConf()\n",
    "         .setMaster(\"local[\"+str(nPartitions)+\"]\")\n",
    "         .setAppName(analysisName)\n",
    "#         .set(\"spark.executor.memory\", \"5g\")\n",
    "#         .set(\"spark.driver.memory\", \"5g\")\n",
    "#         .set(\"spark.python.worker.memory\", \"5g\")\n",
    "       )\n",
    "sc.stop()\n",
    "sc = SparkContext(conf=conf)\n",
    "#sqlContext = SQLContext(sc)\n",
    "sqlContext = HiveContext(sc) \n",
    "sqlContext.sql(\"SET spark.sql.parquet.binaryAsString=true\")\n",
    "\n",
    "#parquetFile = sqlContext.read.parquet(\"/user/hive/warehouse/gvr4.db/variantsulb\")\n",
    "#parquetFile = sqlContext.read.parquet(\"/Users/yalb/Projects/Github/Docker/cdh54_4_add1000g/variants2\")\n",
    "parquetFile = sqlContext.read.parquet(\"/Users/yalb/Projects/Github/variant-ranking/variants\")\n",
    "#parquetFile = sqlContext.read.parquet(\"hdfs://127.0.0.1:8020/user/hive/warehouse/gvr.db/test\")\n",
    "#parquetFile = sqlContext.read.parquet(\"hdfs://localhost/user/hive/warehouse/gvr3.db/variants\")\n",
    "parquetFile.registerTempTable(\"parquetFile\");"
   ]
  },
  {
   "cell_type": "code",
   "execution_count": null,
   "metadata": {
    "collapsed": true
   },
   "outputs": [],
   "source": [
    "#analysisName=\"control_vs_neurodev_rare_digenic\"\n",
    "#group1name=\"control_ulb_rare_damaging\"\n",
    "#group2name=\"neurodev_ulb_rare_damaging\"\n",
    "#scope=\"monogenic\"\n",
    "#scale=\"gene\"\n"
   ]
  },
  {
   "cell_type": "code",
   "execution_count": 1,
   "metadata": {
    "collapsed": false
   },
   "outputs": [
    {
     "ename": "AnalysisException",
     "evalue": "no such table parquetFile; line 1 pos 31",
     "output_type": "error",
     "traceback": [
      "\u001b[0;31m---------------------------------------------------------------------------\u001b[0m",
      "\u001b[0;31mAnalysisException\u001b[0m                         Traceback (most recent call last)",
      "\u001b[0;32m<ipython-input-1-c4b9e17653da>\u001b[0m in \u001b[0;36m<module>\u001b[0;34m()\u001b[0m\n\u001b[0;32m----> 1\u001b[0;31m \u001b[0mRDDtest\u001b[0m \u001b[0;34m=\u001b[0m \u001b[0msqlContext\u001b[0m\u001b[0;34m.\u001b[0m\u001b[0msql\u001b[0m\u001b[0;34m(\u001b[0m\u001b[0;34m\"SELECT distinct sample_id from parquetFile\"\u001b[0m\u001b[0;34m)\u001b[0m\u001b[0;34m\u001b[0m\u001b[0m\n\u001b[0m",
      "\u001b[0;32m/Users/yalb/spark/python/pyspark/sql/context.pyc\u001b[0m in \u001b[0;36msql\u001b[0;34m(self, sqlQuery)\u001b[0m\n\u001b[1;32m    550\u001b[0m         \u001b[0;34m[\u001b[0m\u001b[0mRow\u001b[0m\u001b[0;34m(\u001b[0m\u001b[0mf1\u001b[0m\u001b[0;34m=\u001b[0m\u001b[0;36m1\u001b[0m\u001b[0;34m,\u001b[0m \u001b[0mf2\u001b[0m\u001b[0;34m=\u001b[0m\u001b[0;34mu'row1'\u001b[0m\u001b[0;34m)\u001b[0m\u001b[0;34m,\u001b[0m \u001b[0mRow\u001b[0m\u001b[0;34m(\u001b[0m\u001b[0mf1\u001b[0m\u001b[0;34m=\u001b[0m\u001b[0;36m2\u001b[0m\u001b[0;34m,\u001b[0m \u001b[0mf2\u001b[0m\u001b[0;34m=\u001b[0m\u001b[0;34mu'row2'\u001b[0m\u001b[0;34m)\u001b[0m\u001b[0;34m,\u001b[0m \u001b[0mRow\u001b[0m\u001b[0;34m(\u001b[0m\u001b[0mf1\u001b[0m\u001b[0;34m=\u001b[0m\u001b[0;36m3\u001b[0m\u001b[0;34m,\u001b[0m \u001b[0mf2\u001b[0m\u001b[0;34m=\u001b[0m\u001b[0;34mu'row3'\u001b[0m\u001b[0;34m)\u001b[0m\u001b[0;34m]\u001b[0m\u001b[0;34m\u001b[0m\u001b[0m\n\u001b[1;32m    551\u001b[0m         \"\"\"\n\u001b[0;32m--> 552\u001b[0;31m         \u001b[0;32mreturn\u001b[0m \u001b[0mDataFrame\u001b[0m\u001b[0;34m(\u001b[0m\u001b[0mself\u001b[0m\u001b[0;34m.\u001b[0m\u001b[0m_ssql_ctx\u001b[0m\u001b[0;34m.\u001b[0m\u001b[0msql\u001b[0m\u001b[0;34m(\u001b[0m\u001b[0msqlQuery\u001b[0m\u001b[0;34m)\u001b[0m\u001b[0;34m,\u001b[0m \u001b[0mself\u001b[0m\u001b[0;34m)\u001b[0m\u001b[0;34m\u001b[0m\u001b[0m\n\u001b[0m\u001b[1;32m    553\u001b[0m \u001b[0;34m\u001b[0m\u001b[0m\n\u001b[1;32m    554\u001b[0m     \u001b[0;34m@\u001b[0m\u001b[0msince\u001b[0m\u001b[0;34m(\u001b[0m\u001b[0;36m1.0\u001b[0m\u001b[0;34m)\u001b[0m\u001b[0;34m\u001b[0m\u001b[0m\n",
      "\u001b[0;32m/Users/yalb/spark/python/lib/py4j-0.8.2.1-src.zip/py4j/java_gateway.py\u001b[0m in \u001b[0;36m__call__\u001b[0;34m(self, *args)\u001b[0m\n\u001b[1;32m    536\u001b[0m         \u001b[0manswer\u001b[0m \u001b[0;34m=\u001b[0m \u001b[0mself\u001b[0m\u001b[0;34m.\u001b[0m\u001b[0mgateway_client\u001b[0m\u001b[0;34m.\u001b[0m\u001b[0msend_command\u001b[0m\u001b[0;34m(\u001b[0m\u001b[0mcommand\u001b[0m\u001b[0;34m)\u001b[0m\u001b[0;34m\u001b[0m\u001b[0m\n\u001b[1;32m    537\u001b[0m         return_value = get_return_value(answer, self.gateway_client,\n\u001b[0;32m--> 538\u001b[0;31m                 self.target_id, self.name)\n\u001b[0m\u001b[1;32m    539\u001b[0m \u001b[0;34m\u001b[0m\u001b[0m\n\u001b[1;32m    540\u001b[0m         \u001b[0;32mfor\u001b[0m \u001b[0mtemp_arg\u001b[0m \u001b[0;32min\u001b[0m \u001b[0mtemp_args\u001b[0m\u001b[0;34m:\u001b[0m\u001b[0;34m\u001b[0m\u001b[0m\n",
      "\u001b[0;32m/Users/yalb/spark/python/pyspark/sql/utils.pyc\u001b[0m in \u001b[0;36mdeco\u001b[0;34m(*a, **kw)\u001b[0m\n\u001b[1;32m     38\u001b[0m             \u001b[0ms\u001b[0m \u001b[0;34m=\u001b[0m \u001b[0me\u001b[0m\u001b[0;34m.\u001b[0m\u001b[0mjava_exception\u001b[0m\u001b[0;34m.\u001b[0m\u001b[0mtoString\u001b[0m\u001b[0;34m(\u001b[0m\u001b[0;34m)\u001b[0m\u001b[0;34m\u001b[0m\u001b[0m\n\u001b[1;32m     39\u001b[0m             \u001b[0;32mif\u001b[0m \u001b[0ms\u001b[0m\u001b[0;34m.\u001b[0m\u001b[0mstartswith\u001b[0m\u001b[0;34m(\u001b[0m\u001b[0;34m'org.apache.spark.sql.AnalysisException: '\u001b[0m\u001b[0;34m)\u001b[0m\u001b[0;34m:\u001b[0m\u001b[0;34m\u001b[0m\u001b[0m\n\u001b[0;32m---> 40\u001b[0;31m                 \u001b[0;32mraise\u001b[0m \u001b[0mAnalysisException\u001b[0m\u001b[0;34m(\u001b[0m\u001b[0ms\u001b[0m\u001b[0;34m.\u001b[0m\u001b[0msplit\u001b[0m\u001b[0;34m(\u001b[0m\u001b[0;34m': '\u001b[0m\u001b[0;34m,\u001b[0m \u001b[0;36m1\u001b[0m\u001b[0;34m)\u001b[0m\u001b[0;34m[\u001b[0m\u001b[0;36m1\u001b[0m\u001b[0;34m]\u001b[0m\u001b[0;34m)\u001b[0m\u001b[0;34m\u001b[0m\u001b[0m\n\u001b[0m\u001b[1;32m     41\u001b[0m             \u001b[0;32mif\u001b[0m \u001b[0ms\u001b[0m\u001b[0;34m.\u001b[0m\u001b[0mstartswith\u001b[0m\u001b[0;34m(\u001b[0m\u001b[0;34m'java.lang.IllegalArgumentException: '\u001b[0m\u001b[0;34m)\u001b[0m\u001b[0;34m:\u001b[0m\u001b[0;34m\u001b[0m\u001b[0m\n\u001b[1;32m     42\u001b[0m                 \u001b[0;32mraise\u001b[0m \u001b[0mIllegalArgumentException\u001b[0m\u001b[0;34m(\u001b[0m\u001b[0ms\u001b[0m\u001b[0;34m.\u001b[0m\u001b[0msplit\u001b[0m\u001b[0;34m(\u001b[0m\u001b[0;34m': '\u001b[0m\u001b[0;34m,\u001b[0m \u001b[0;36m1\u001b[0m\u001b[0;34m)\u001b[0m\u001b[0;34m[\u001b[0m\u001b[0;36m1\u001b[0m\u001b[0;34m]\u001b[0m\u001b[0;34m)\u001b[0m\u001b[0;34m\u001b[0m\u001b[0m\n",
      "\u001b[0;31mAnalysisException\u001b[0m: no such table parquetFile; line 1 pos 31"
     ]
    }
   ],
   "source": [
    "RDDtest = sqlContext.sql(\"SELECT distinct sample_id from parquetFile\")"
   ]
  },
  {
   "cell_type": "code",
   "execution_count": null,
   "metadata": {
    "collapsed": false
   },
   "outputs": [],
   "source": [
    "RDDtest.count()"
   ]
  },
  {
   "cell_type": "code",
   "execution_count": 4,
   "metadata": {
    "collapsed": false
   },
   "outputs": [],
   "source": [
    "def splitByVariantID(variantData):\n",
    "    ID=variantData[1]+\":\"+str(variantData[2])+\":\"+variantData[3]+\":\"+variantData[4]\n",
    "    return (ID,(variantData[5],variantData[0],variantData[6]))\n",
    "\n",
    "def buildVariantVector(ID,variantData,samplesID):\n",
    "    variantData=list(variantData)\n",
    "    result=[0]*len(samplesID)\n",
    "    \n",
    "    #Get sampleID/Genotype for each variant\n",
    "    sID=[]\n",
    "    geno=[]\n",
    "    for i in range(0,len(variantData)):\n",
    "        if variantData[i][2]==\"Homozygous\":\n",
    "            geno.append(2)\n",
    "        else:\n",
    "            geno.append(1)\n",
    "        sID.append(variantData[i][1])\n",
    "    \n",
    "    #Sort according to sampleID\n",
    "    sIDsorted=[v for v in sorted(enumerate(sID), key=lambda x:x[1])]\n",
    "    sID=[v[1] for v in sIDsorted]\n",
    "    geno=[geno[v[0]] for v in sIDsorted]                             \n",
    "    \n",
    "    curID=0\n",
    "    for i in range(0,len(samplesID)):\n",
    "        if sID[curID]==samplesID[i]:\n",
    "            result[i]=geno[curID]\n",
    "            curID=curID+1\n",
    "        if curID==len(sID):\n",
    "            break;\n",
    "    \n",
    "    return ((ID,variantData[0][0]),result)\n",
    "\n"
   ]
  },
  {
   "cell_type": "code",
   "execution_count": 5,
   "metadata": {
    "collapsed": true
   },
   "outputs": [],
   "source": [
    "def splitValues(variantData):    \n",
    "    return (variantData[0][1],(variantData[0][0],variantData[1]))\n",
    "\n",
    "def makePairParts(k,v,nbPart):\n",
    "    result=[]\n",
    "    for i in range(0,nbPart):\n",
    "        result.append(((k,i),v))\n",
    "        \n",
    "    return [(str(sorted([k,i])),(v)) for i in range(0,nbPart)]\n",
    "\n",
    "def f(splitIndex ,v): \n",
    "    return [(splitIndex,list(v))]"
   ]
  },
  {
   "cell_type": "code",
   "execution_count": 6,
   "metadata": {
    "collapsed": true
   },
   "outputs": [],
   "source": [
    "def scoreVariantUnivariate(k,variantData):\n",
    "    variantData=list(variantData)\n",
    "    \n",
    "    score=0\n",
    "    sumControl=0\n",
    "    \n",
    "    sumCase=sum([int(x>0) for x in variantData[0]])\n",
    "    sumControl=sum([int(x>0) for x in variantData[1]])\n",
    "    \n",
    "    score=sumCase#-sumControl\n",
    "    if sumControl>0:\n",
    "        score=0\n",
    "        \n",
    "    if score>0:\n",
    "        return (k,(score,sumCase,sumControl))"
   ]
  },
  {
   "cell_type": "code",
   "execution_count": 7,
   "metadata": {
    "collapsed": false
   },
   "outputs": [],
   "source": [
    "def scoreGeneUnivariate(k,variantList):\n",
    "    variantList=list(variantList)\n",
    "    result=[k,(0,0,0)]\n",
    "    sumCase=0\n",
    "    sumControl=0\n",
    "    score=0\n",
    "    genosumcase=[]\n",
    "    genosumcontrol=[]\n",
    "    if len(variantList)>0:\n",
    "        for i in range(0,len(variantList)):\n",
    "            (locus,geno)=variantList[i]\n",
    "            if genosumcase==[]:\n",
    "                genosumcase=[int(x) for x in geno[0]]\n",
    "                genosumcontrol=[int(x) for x in geno[1]]\n",
    "            else:\n",
    "                genosumcase=[int(x)+int(y) for x,y in zip(genosumcase,geno[0])]\n",
    "                genosumcontrol=[int(x)+int(y) for x,y in zip(genosumcontrol,geno[1])]\n",
    "                \n",
    "        sumCase=sum([int(x>0) for x in genosumcase])\n",
    "        sumControl=sum([int(x>0) for x in genosumcontrol])\n",
    "        score=sumCase-sumControl\n",
    "\n",
    "    if score>0:\n",
    "        if sumControl==0:\n",
    "            result=[k,(score,sumCase,sumControl)]\n",
    "            return result"
   ]
  },
  {
   "cell_type": "code",
   "execution_count": 8,
   "metadata": {
    "collapsed": false
   },
   "outputs": [],
   "source": [
    "def scoreDigenicGene(k,variantLists):\n",
    "    variantLists=list(variantLists)\n",
    "    result=[]\n",
    "    geno1sumcase=[]\n",
    "    geno1sumcontrol=[]\n",
    "    geno2sumcase=[]\n",
    "    geno2sumcontrol=[]\n",
    "    score=0\n",
    "    gene1=\"\"\n",
    "    gene2=\"\"\n",
    "    sumCase=-1\n",
    "    sumControl=-1\n",
    "    if len(variantLists)==2:\n",
    "        (genes,variantList1)=list(variantLists[0])\n",
    "        (genes,variantList2)=list(variantLists[1])\n",
    "        gene1=genes[0]\n",
    "        gene2=genes[1]\n",
    "        variantList1=list(variantList1)\n",
    "        variantList2=list(variantList2)\n",
    "        for i in range(0,len(variantList1)):\n",
    "            (locus1,geno1)=variantList1[i]\n",
    "            if geno1sumcase==[]:\n",
    "                geno1sumcase=[int(x) for x in geno1[0]]\n",
    "                geno1sumcontrol=[int(x) for x in geno1[1]]\n",
    "            else:\n",
    "                geno1sumcase=[int(x)+int(y) for x,y in zip(geno1sumcase,geno1[0])]\n",
    "                geno1sumcontrol=[int(x)+int(y) for x,y in zip(geno1sumcontrol,geno1[1])]\n",
    "                \n",
    "        for i in range(0,len(variantList2)):\n",
    "            (locus2,geno2)=variantList2[i]\n",
    "            if geno2sumcase==[]:\n",
    "                geno2sumcase=[int(x) for x in geno2[0]]\n",
    "                geno2sumcontrol=[int(x) for x in geno2[1]]\n",
    "            else:\n",
    "                geno2sumcase=[int(x)+int(y) for x,y in zip(geno2sumcase,geno2[0])]\n",
    "                geno2sumcontrol=[int(x)+int(y) for x,y in zip(geno2sumcontrol,geno2[1])]\n",
    "                \n",
    "        genosumcase=[x+y for x,y in zip(geno1sumcase,geno2sumcase)]\n",
    "        genosumcontrol=[x+y for x,y in zip(geno1sumcontrol,geno2sumcontrol)]\n",
    "        sumCase=sum([int(x>0) for x in genosumcase])\n",
    "        sumControl=sum([int(x>0) for x in genosumcontrol])\n",
    "        score=sumCase-sumControl\n",
    "        #if sumControl>0:\n",
    "        #    score=0\n",
    "        \n",
    "    if score>0:\n",
    "        if sumControl==0:\n",
    "            return (k,((gene1,gene2),score,sumCase,sumControl))\n",
    "\n",
    "def getGene(variantData):\n",
    "    variantGene=variantData[0][1]\n",
    "    \n",
    "    return (variantGene)\n",
    "\n",
    "def createPairsGenes(k,v,genes):\n",
    "    return [(str(sorted([k,gene])),(sorted([k,gene]),v)) for gene in genes]\n",
    "\n",
    "def fillMissing(k,v):\n",
    "    v=list(v)\n",
    "    if v[1] is None:\n",
    "        v[1]=[0]*len(sample_id_control_b.value)\n",
    "        \n",
    "    return (k,v)"
   ]
  },
  {
   "cell_type": "code",
   "execution_count": 9,
   "metadata": {
    "collapsed": false
   },
   "outputs": [],
   "source": [
    "start_time = time.time()\n",
    "#sqlCase=\"sample_id IN('HG00096','HG00097','HG00099','HG00100','HG00101','HG00102','HG00103','HG00105','HG00106','HG00107','HG00108','HG00109','HG00110','HG00111','HG00112','HG00113','HG00114','HG00115','HG00116','HG00117','HG00118','HG00119','HG00120','HG00121','HG00122','HG00123','HG00125','HG00126','HG00127','HG00128','HG00129','HG00130','HG00131','HG00132','HG00133','HG00136','HG00137','HG00138','HG00139','HG00140','HG00141','HG00142','HG00143','HG00145','HG00146','HG00148','HG00149','HG00150','HG00151','HG00154','HG00155','HG00157','HG00158','HG00159','HG00160','HG00171','HG00173','HG00174','HG00176','HG00177','HG00178','HG00179','HG00180','HG00181','HG00182','HG00183','HG00185','HG00186','HG00187','HG00188','HG00189','HG00190','HG00231','HG00232','HG00233','HG00234','HG00235','HG00236','HG00237','HG00238','HG00239','HG00240','HG00242','HG00243','HG00244','HG00245','HG00246','HG00250','HG00251','HG00252','HG00253','HG00254','HG00255','HG00256','HG00257','HG00258','HG00259','HG00260','HG00261','HG00262')\"\n",
    "#sqlControl=\"sample_id IN('HG00096','HG00097','HG00099','HG00100','HG00101','HG00102','HG00103','HG00105','HG00106','HG00107','HG00108','HG00109','HG00110','HG00111','HG00112','HG00113','HG00114','HG00115','HG00116','HG00117','HG00118','HG00119','HG00120','HG00121','HG00122','HG00123','HG00125','HG00126','HG00127','HG00128','HG00129','HG00130','HG00131','HG00132','HG00133','HG00136','HG00137','HG00138','HG00139','HG00140','HG00141','HG00142','HG00143','HG00145','HG00146','HG00148','HG00149','HG00150','HG00151','HG00154','HG00155','HG00157','HG00158','HG00159','HG00160','HG00171','HG00173','HG00174','HG00176','HG00177','HG00178','HG00179','HG00180','HG00181','HG00182','HG00183','HG00185','HG00186','HG00187','HG00188','HG00189','HG00190','HG00231','HG00232','HG00233','HG00234','HG00235','HG00236','HG00237','HG00238','HG00239','HG00240','HG00242','HG00243','HG00244','HG00245','HG00246','HG00250','HG00251','HG00252','HG00253','HG00254','HG00255','HG00256','HG00257','HG00258','HG00259','HG00260','HG00261','HG00262')\"\n",
    "\n",
    "#sample_id_case=['HG00096','HG00097','HG00099','HG00100','HG00101','HG00102','HG00103','HG00105','HG00106','HG00107','HG00108','HG00109','HG00110','HG00111','HG00112','HG00113','HG00114','HG00115','HG00116','HG00117','HG00118','HG00119','HG00120','HG00121','HG00122','HG00123','HG00125','HG00126','HG00127','HG00128','HG00129','HG00130','HG00131','HG00132','HG00133','HG00136','HG00137','HG00138','HG00139','HG00140','HG00141','HG00142','HG00143','HG00145','HG00146','HG00148','HG00149','HG00150','HG00151','HG00154','HG00155','HG00157','HG00158','HG00159','HG00160','HG00171','HG00173','HG00174','HG00176','HG00177','HG00178','HG00179','HG00180','HG00181','HG00182','HG00183','HG00185','HG00186','HG00187','HG00188','HG00189','HG00190','HG00231','HG00232','HG00233','HG00234','HG00235','HG00236','HG00237','HG00238','HG00239','HG00240','HG00242','HG00243','HG00244','HG00245','HG00246','HG00250','HG00251','HG00252','HG00253','HG00254','HG00255','HG00256','HG00257','HG00258','HG00259','HG00260','HG00261','HG00262']\n",
    "#sample_id_control=['HG00096','HG00097','HG00099','HG00100','HG00101','HG00102','HG00103','HG00105','HG00106','HG00107','HG00108','HG00109','HG00110','HG00111','HG00112','HG00113','HG00114','HG00115','HG00116','HG00117','HG00118','HG00119','HG00120','HG00121','HG00122','HG00123','HG00125','HG00126','HG00127','HG00128','HG00129','HG00130','HG00131','HG00132','HG00133','HG00136','HG00137','HG00138','HG00139','HG00140','HG00141','HG00142','HG00143','HG00145','HG00146','HG00148','HG00149','HG00150','HG00151','HG00154','HG00155','HG00157','HG00158','HG00159','HG00160','HG00171','HG00173','HG00174','HG00176','HG00177','HG00178','HG00179','HG00180','HG00181','HG00182','HG00183','HG00185','HG00186','HG00187','HG00188','HG00189','HG00190','HG00231','HG00232','HG00233','HG00234','HG00235','HG00236','HG00237','HG00238','HG00239','HG00240','HG00242','HG00243','HG00244','HG00245','HG00246','HG00250','HG00251','HG00252','HG00253','HG00254','HG00255','HG00256','HG00257','HG00258','HG00259','HG00260','HG00261','HG00262']\n",
    "\n",
    "RDDcase = sqlContext.sql(\"SELECT sample_id,chr,position,reference,alternative,gene_symbol,zygosity FROM parquetFile \"+sqlCase)\n",
    "RDDcontrol= sqlContext.sql(\"SELECT sample_id,chr,position,reference,alternative,gene_symbol,zygosity FROM parquetFile \"+sqlControl)\n",
    "\n",
    "#sample_id_case=\n",
    "#sample_id_control=\n",
    "\n",
    "#RDDcase = sqlContext.sql(\"SELECT sample_id,chr,position,reference,alternative,gene_symbol,zygosity FROM parquetFile where sample_id IN('HG01855' , 'ZH136914' , 'ZH141272' , 'ZH141483' , 'ZH108301' , 'ZH135914' , 'ZH136155' , 'ZH136587' , 'ZH137071' , 'ZH141455' , 'ZH135614')\")\n",
    "#RDDcontrol= sqlContext.sql(\"SELECT sample_id,chr,position,reference,alternative,gene_symbol,zygosity FROM parquetFile where sample_id IN('NA18871' , 'ZH136915' , 'ZH141389' , 'ZH141390' , 'ZH142274' , 'ZH142276' , 'ZH1428' , 'ZH1429' , 'ZH135907' , 'ZH135909' , 'ZH136156' , 'ZH136157' , 'ZH136586' , 'ZH137070' , 'ZH137072' , 'ZH137703' , 'ZH142270' , 'ZH96867' , 'ZH141454' , 'ZH141456' , 'ZH135613' , 'ZH135615')\")\n",
    "                         \n",
    "                           \n",
    "sample_id_case=sorted(RDDcase.map(lambda v:v[0]).distinct().collect())\n",
    "sample_id_control=sorted(RDDcontrol.map(lambda v:v[0]).distinct().collect())\n",
    "\n",
    "sample_id_case_b = sc.broadcast(sample_id_case)\n",
    "sample_id_control_b = sc.broadcast(sample_id_control)\n",
    "\n",
    "genoMatCase=RDDcase.map(splitByVariantID).groupByKey()\n",
    "genoMatCase=genoMatCase.map(lambda (k,v):buildVariantVector(k,v,sample_id_case))\n",
    "\n",
    "genoMatControl=RDDcontrol.map(splitByVariantID).groupByKey()\n",
    "genoMatControl=genoMatControl.map(lambda (k,v):buildVariantVector(k,v,sample_id_control))\n",
    "\n",
    "genoMat=genoMatCase.leftOuterJoin(genoMatControl).map(lambda (k,v): fillMissing(k,v))"
   ]
  },
  {
   "cell_type": "code",
   "execution_count": 27,
   "metadata": {
    "collapsed": false
   },
   "outputs": [
    {
     "name": "stdout",
     "output_type": "stream",
     "text": [
      "9.52594995499\n"
     ]
    }
   ],
   "source": [
    "#start_time = time.time()\n",
    "\n",
    "\n",
    "if scope=='monogenic':\n",
    "    if scale=='variant':\n",
    "        scores=genoMat.map(lambda (k,v):scoreVariantUnivariate(k,v)).filter(lambda x:x is not None).takeOrdered(10000000, key=lambda (k,(v1,v2,v3)): -v1)\n",
    "\n",
    "    if scale=='gene':\n",
    "        scores=genoMat.map(splitValues).groupByKey().map(lambda (k,v):scoreGeneUnivariate(k,v)).filter(lambda x:x is not None).takeOrdered(1000, key=lambda (k,(v1,v2,v3)): -v1)\n",
    "    \n",
    "if scope=='digenic':\n",
    "    genes=genoMat.map(getGene).distinct().takeOrdered(10000)#.flatMap(lambda (k,v):scoreCompound(k,v)).takeOrdered(100000, key=lambda (k,v1,v2,v3): -v1)\n",
    "    scores=genoMat.map(splitValues).groupByKey().flatMap(lambda (k,v):createPairsGenes(k,v,genes)).groupByKey().map(lambda (k,v):scoreDigenicGene(k,v)).filter(lambda x:x is not None).takeOrdered(1000, key=lambda (k,(genes,v1,v2,v3)): -v1)\n",
    "\n",
    "end_time=time.time()\n",
    "runtime=end_time - start_time\n",
    "print(runtime)\n"
   ]
  },
  {
   "cell_type": "code",
   "execution_count": 28,
   "metadata": {
    "collapsed": false
   },
   "outputs": [
    {
     "data": {
      "text/plain": [
       "27"
      ]
     },
     "execution_count": 28,
     "metadata": {},
     "output_type": "execute_result"
    }
   ],
   "source": [
    "len(scores)"
   ]
  },
  {
   "cell_type": "code",
   "execution_count": 29,
   "metadata": {
    "collapsed": false
   },
   "outputs": [
    {
     "data": {
      "text/plain": [
       "[[u'WDR89', (2, 2, 0)],\n",
       " [u'ARMCX4', (2, 2, 0)],\n",
       " [u'FAM209B', (1, 1, 0)],\n",
       " [u'CAGE1', (1, 1, 0)],\n",
       " [u'HTT', (1, 1, 0)],\n",
       " [u'BCL11A', (1, 1, 0)],\n",
       " [u'LACTBL1', (1, 1, 0)],\n",
       " [u'MUC20', (1, 1, 0)],\n",
       " [u'STAB2', (1, 1, 0)],\n",
       " [u'MMP3', (1, 1, 0)],\n",
       " [u'KRT16P3', (1, 1, 0)],\n",
       " [u'FOXD4L5', (1, 1, 0)],\n",
       " [u'PTPRN2', (1, 1, 0)],\n",
       " [u'CBX3', (1, 1, 0)],\n",
       " [u'NPIPB5', (1, 1, 0)],\n",
       " [u'PRKRA', (1, 1, 0)],\n",
       " [u'EP400', (1, 1, 0)],\n",
       " [u'MTCH2', (1, 1, 0)],\n",
       " [u'ANKRD44', (1, 1, 0)],\n",
       " [u'BOD1', (1, 1, 0)],\n",
       " [u'ACSM5', (1, 1, 0)],\n",
       " [u'POLR3B', (1, 1, 0)],\n",
       " [u'NARS', (1, 1, 0)],\n",
       " [u'OR5P3', (1, 1, 0)],\n",
       " [u'CNOT10', (1, 1, 0)],\n",
       " [u'PLK4', (1, 1, 0)],\n",
       " [u'RASA2', (1, 1, 0)]]"
      ]
     },
     "execution_count": 29,
     "metadata": {},
     "output_type": "execute_result"
    }
   ],
   "source": [
    "scores"
   ]
  },
  {
   "cell_type": "code",
   "execution_count": 30,
   "metadata": {
    "collapsed": true
   },
   "outputs": [],
   "source": [
    "scores=[analysisName,scale,scope,start_time,end_time,runtime,scores,sample_id_case,sample_id_control,group1name,group2name]\n",
    "\n",
    "with open(\"analyses/\"+analysisName+'.txt', 'w') as outfile:\n",
    "    json.dump(scores, outfile)\n",
    "    "
   ]
  },
  {
   "cell_type": "code",
   "execution_count": null,
   "metadata": {
    "collapsed": true
   },
   "outputs": [],
   "source": [
    "sc.stop()"
   ]
  }
 ],
 "metadata": {
  "kernelspec": {
   "display_name": "Python 2",
   "language": "python",
   "name": "python2"
  },
  "language_info": {
   "codemirror_mode": {
    "name": "ipython",
    "version": 2
   },
   "file_extension": ".py",
   "mimetype": "text/x-python",
   "name": "python",
   "nbconvert_exporter": "python",
   "pygments_lexer": "ipython2",
   "version": "2.7.10"
  }
 },
 "nbformat": 4,
 "nbformat_minor": 0
}
