{
 "metadata": {
  "name": "compound"
 }, 
 "nbformat": 2, 
 "worksheets": [
  {
   "cells": [
    {
     "cell_type": "code", 
     "collapsed": false, 
     "input": [
      "from pyspark import SparkContext", 
      "sc = SparkContext(\"local[8]\", \"Simple App\")"
     ], 
     "language": "python", 
     "outputs": [
      {
       "ename": "ValueError", 
       "evalue": "Cannot run multiple SparkContexts at once; existing SparkContext(app=Simple App, master=local[8]) created by __init__ at <ipython-input-1-791feabb73e9>:2 ", 
       "output_type": "pyerr", 
       "traceback": [
        "\u001b[0;31m---------------------------------------------------------------------------\u001b[0m\n\u001b[0;31mValueError\u001b[0m                                Traceback (most recent call last)", 
        "\u001b[0;32m/home/yleborgn/<ipython-input-15-791feabb73e9>\u001b[0m in \u001b[0;36m<module>\u001b[0;34m()\u001b[0m\n\u001b[1;32m      1\u001b[0m \u001b[0;32mfrom\u001b[0m \u001b[0mpyspark\u001b[0m \u001b[0;32mimport\u001b[0m \u001b[0mSparkContext\u001b[0m\u001b[0;34m\u001b[0m\u001b[0m\n\u001b[0;32m----> 2\u001b[0;31m \u001b[0msc\u001b[0m \u001b[0;34m=\u001b[0m \u001b[0mSparkContext\u001b[0m\u001b[0;34m(\u001b[0m\u001b[0;34m\"local[8]\"\u001b[0m\u001b[0;34m,\u001b[0m \u001b[0;34m\"Simple App\"\u001b[0m\u001b[0;34m)\u001b[0m\u001b[0;34m\u001b[0m\u001b[0m\n\u001b[0m", 
        "\u001b[0;32m/home/yleborgn/spark/python/pyspark/context.pyc\u001b[0m in \u001b[0;36m__init__\u001b[0;34m(self, master, appName, sparkHome, pyFiles, environment, batchSize, serializer, conf, gateway, jsc, profiler_cls)\u001b[0m\n\u001b[1;32m    108\u001b[0m         \"\"\"\n\u001b[1;32m    109\u001b[0m         \u001b[0mself\u001b[0m\u001b[0;34m.\u001b[0m\u001b[0m_callsite\u001b[0m \u001b[0;34m=\u001b[0m \u001b[0mfirst_spark_call\u001b[0m\u001b[0;34m(\u001b[0m\u001b[0;34m)\u001b[0m \u001b[0;32mor\u001b[0m \u001b[0mCallSite\u001b[0m\u001b[0;34m(\u001b[0m\u001b[0mNone\u001b[0m\u001b[0;34m,\u001b[0m \u001b[0mNone\u001b[0m\u001b[0;34m,\u001b[0m \u001b[0mNone\u001b[0m\u001b[0;34m)\u001b[0m\u001b[0;34m\u001b[0m\u001b[0m\n\u001b[0;32m--> 110\u001b[0;31m         \u001b[0mSparkContext\u001b[0m\u001b[0;34m.\u001b[0m\u001b[0m_ensure_initialized\u001b[0m\u001b[0;34m(\u001b[0m\u001b[0mself\u001b[0m\u001b[0;34m,\u001b[0m \u001b[0mgateway\u001b[0m\u001b[0;34m=\u001b[0m\u001b[0mgateway\u001b[0m\u001b[0;34m)\u001b[0m\u001b[0;34m\u001b[0m\u001b[0m\n\u001b[0m\u001b[1;32m    111\u001b[0m         \u001b[0;32mtry\u001b[0m\u001b[0;34m:\u001b[0m\u001b[0;34m\u001b[0m\u001b[0m\n\u001b[1;32m    112\u001b[0m             self._do_init(master, appName, sparkHome, pyFiles, environment, batchSize, serializer,\n", 
        "\u001b[0;32m/home/yleborgn/spark/python/pyspark/context.pyc\u001b[0m in \u001b[0;36m_ensure_initialized\u001b[0;34m(cls, instance, gateway)\u001b[0m\n\u001b[1;32m    243\u001b[0m                         \u001b[0;34m\" created by %s at %s:%s \"\u001b[0m\u001b[0;34m\u001b[0m\u001b[0m\n\u001b[1;32m    244\u001b[0m                         % (currentAppName, currentMaster,\n\u001b[0;32m--> 245\u001b[0;31m                             callsite.function, callsite.file, callsite.linenum))\n\u001b[0m\u001b[1;32m    246\u001b[0m                 \u001b[0;32melse\u001b[0m\u001b[0;34m:\u001b[0m\u001b[0;34m\u001b[0m\u001b[0m\n\u001b[1;32m    247\u001b[0m                     \u001b[0mSparkContext\u001b[0m\u001b[0;34m.\u001b[0m\u001b[0m_active_spark_context\u001b[0m \u001b[0;34m=\u001b[0m \u001b[0minstance\u001b[0m\u001b[0;34m\u001b[0m\u001b[0m\n", 
        "\u001b[0;31mValueError\u001b[0m: Cannot run multiple SparkContexts at once; existing SparkContext(app=Simple App, master=local[8]) created by __init__ at <ipython-input-1-791feabb73e9>:2 "
       ]
      }
     ], 
     "prompt_number": 15
    }, 
    {
     "cell_type": "code", 
     "collapsed": true, 
     "input": [
      "import json"
     ], 
     "language": "python", 
     "outputs": [], 
     "prompt_number": 16
    }, 
    {
     "cell_type": "code", 
     "collapsed": false, 
     "input": [
      "filename=\"varMat2.txt\"", 
      "varMat = sc.textFile(filename,2)", 
      "varMat.count()"
     ], 
     "language": "python", 
     "outputs": [
      {
       "output_type": "pyout", 
       "prompt_number": 9, 
       "text": [
        "33012"
       ]
      }
     ], 
     "prompt_number": 9
    }, 
    {
     "cell_type": "code", 
     "collapsed": true, 
     "input": [
      "varMat.take(2)"
     ], 
     "language": "python", 
     "outputs": [], 
     "prompt_number": 6
    }, 
    {
     "cell_type": "code", 
     "collapsed": true, 
     "input": [
      "def scoreCompound(k,variantList):", 
      "    variantList=list(variantList)", 
      "    result=[]", 
      "    if len(variantList)>1:", 
      "        for i in range(0,len(variantList)-1):", 
      "            (locus1,ref1,alt1,geno1)=variantList[i]", 
      "            for j in range(i+1,len(variantList)):", 
      "                (locus2,ref2,alt2,geno2)=variantList[j]", 
      "                (score,listTrios)=getScorePair(geno1,geno2)", 
      "                if score>0:", 
      "                    result.append(((k,locus1,ref1,alt1,locus2,ref2,alt2),score,listTrios,[geno1,geno2]))", 
      "        ", 
      "    return result"
     ], 
     "language": "python", 
     "outputs": [], 
     "prompt_number": 18
    }, 
    {
     "cell_type": "code", 
     "collapsed": true, 
     "input": [
      "def getScorePair(geno1,geno2):", 
      "    score=0", 
      "    listTrios=[]", 
      "    checkValid=0", 
      "    for i in range(0,11):", 
      "        checkValid=checkValid+int(int(geno1[i*3+1])>0 and int(geno2[i*3+1])>0)+int(int(geno1[i*3+2])>0 and int(geno2[i*3+2])>0)", 
      "        ", 
      "    if checkValid==0:", 
      "        for i in range(0,11):", 
      "            scoreTrio=int(geno1[i*3]==\"1\" and geno2[i*3]==\"1\" and ", 
      "                          ((geno1[i*3+1]==\"1\" and geno2[i*3+1]==\"0\" and geno1[i*3+2]==\"0\" and geno2[i*3+2]==\"1\") or", 
      "                           (geno1[i*3+1]==\"0\" and geno2[i*3+1]==\"1\" and geno1[i*3+2]==\"1\" and geno2[i*3+2]==\"0\")))", 
      "            if scoreTrio>0:", 
      "                listTrios.append(i)", 
      "                score=score+scoreTrio", 
      "    return (score,listTrios)"
     ], 
     "language": "python", 
     "outputs": [], 
     "prompt_number": 19
    }, 
    {
     "cell_type": "code", 
     "collapsed": true, 
     "input": [
      "def splitValues(variantData):", 
      "    variantData=variantData.split(\" \")", 
      "    variantGene=variantData.pop(0)", 
      "    variantLocus=variantData.pop(0)", 
      "    variantRef=variantData.pop(0)", 
      "    variantAlt=variantData.pop(0)", 
      "    ", 
      "    return (variantGene,(variantLocus,variantRef,variantAlt,variantData))"
     ], 
     "language": "python", 
     "outputs": [], 
     "prompt_number": 20
    }, 
    {
     "cell_type": "code", 
     "collapsed": true, 
     "input": [
      "stage1=varMat.map(splitValues)", 
      "stage1.take(2)"
     ], 
     "language": "python", 
     "outputs": [], 
     "prompt_number": 8
    }, 
    {
     "cell_type": "code", 
     "collapsed": true, 
     "input": [
      "stage2=stage1.groupByKey()", 
      "stage2.count()", 
      "list(stage2.take(1)[0][1])"
     ], 
     "language": "python", 
     "outputs": [], 
     "prompt_number": 9
    }, 
    {
     "cell_type": "code", 
     "collapsed": true, 
     "input": [
      "stage3=stage2.flatMap(lambda (k,v):scoreCompound(k,v))", 
      "stage3.take(2)", 
      "stage3.count()"
     ], 
     "language": "python", 
     "outputs": [], 
     "prompt_number": 10
    }, 
    {
     "cell_type": "code", 
     "collapsed": true, 
     "input": [
      "scores=stage3.takeOrdered(10, key=lambda (k,(v1,v2,v3,v4)): -v1)", 
      "print(scores)"
     ], 
     "language": "python", 
     "outputs": [], 
     "prompt_number": 11
    }, 
    {
     "cell_type": "code", 
     "collapsed": true, 
     "input": [
      "filename=\"varMat2.txt\""
     ], 
     "language": "python", 
     "outputs": [], 
     "prompt_number": 21
    }, 
    {
     "cell_type": "code", 
     "collapsed": true, 
     "input": [
      "scores=sc.textFile(filename,4).map(splitValues).groupByKey().flatMap(lambda (k,v):scoreCompound(k,v)).takeOrdered(100, key=lambda (k,v1,v2,v3): -v1)", 
      "#scores=sc.textFile(filename,4).map(splitValues).groupByKey().mapValues(lambda v: len(list(v))).maxValues()"
     ], 
     "language": "python", 
     "outputs": [], 
     "prompt_number": 22
    }, 
    {
     "cell_type": "code", 
     "collapsed": false, 
     "input": [
      "scores[1]"
     ], 
     "language": "python", 
     "outputs": [
      {
       "output_type": "pyout", 
       "prompt_number": 23, 
       "text": [
        "((u'ENSG00000243478', u'2:201627550', u'C', u'T', u'2:201615316', u'C', u'T'),", 
        " 2,", 
        " [0, 6],", 
        " [[u'1',", 
        "   u'1',", 
        "   u'0',", 
        "   u'1',", 
        "   u'2',", 
        "   u'0',", 
        "   u'1',", 
        "   u'0',", 
        "   u'2',", 
        "   u'0',", 
        "   u'0',", 
        "   u'0',", 
        "   u'2',", 
        "   u'1',", 
        "   u'1',", 
        "   u'1',", 
        "   u'1',", 
        "   u'0',", 
        "   u'1',", 
        "   u'1',", 
        "   u'0',", 
        "   u'2',", 
        "   u'1',", 
        "   u'1',", 
        "   u'1',", 
        "   u'0',", 
        "   u'2',", 
        "   u'0',", 
        "   u'2',", 
        "   u'1',", 
        "   u'2',", 
        "   u'2',", 
        "   u'2'],", 
        "  [u'1',", 
        "   u'0',", 
        "   u'1',", 
        "   u'0',", 
        "   u'0',", 
        "   u'0',", 
        "   u'0',", 
        "   u'0',", 
        "   u'0',", 
        "   u'1',", 
        "   u'1',", 
        "   u'0',", 
        "   u'0',", 
        "   u'0',", 
        "   u'0',", 
        "   u'0',", 
        "   u'0',", 
        "   u'0',", 
        "   u'1',", 
        "   u'0',", 
        "   u'1',", 
        "   u'0',", 
        "   u'0',", 
        "   u'0',", 
        "   u'1',", 
        "   u'1',", 
        "   u'0',", 
        "   u'1',", 
        "   u'0',", 
        "   u'0',", 
        "   u'0',", 
        "   u'0',", 
        "   u'0']])"
       ]
      }
     ], 
     "prompt_number": 23
    }, 
    {
     "cell_type": "code", 
     "collapsed": true, 
     "input": [
      "scores=[\"TriosCompound\",\"pairVariantsMonogenic\",scores]"
     ], 
     "language": "python", 
     "outputs": [], 
     "prompt_number": 12
    }, 
    {
     "cell_type": "code", 
     "collapsed": true, 
     "input": [
      "with open('pairVarCompound2.txt', 'w') as outfile:", 
      "    json.dump(scores, outfile)"
     ], 
     "language": "python", 
     "outputs": [], 
     "prompt_number": 13
    }, 
    {
     "cell_type": "code", 
     "collapsed": true, 
     "input": [
      "sc.stop()"
     ], 
     "language": "python", 
     "outputs": [], 
     "prompt_number": 1
    }, 
    {
     "cell_type": "code", 
     "collapsed": true, 
     "input": [], 
     "language": "python", 
     "outputs": []
    }
   ]
  }
 ]
}